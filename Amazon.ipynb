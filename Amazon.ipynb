{
  "nbformat": 4,
  "nbformat_minor": 0,
  "metadata": {
    "colab": {
      "name": "Amazon.ipynb",
      "provenance": [],
      "collapsed_sections": [],
      "authorship_tag": "ABX9TyNFLGefGSVDivkyZGaRGt7v",
      "include_colab_link": true
    },
    "kernelspec": {
      "display_name": "Python 3",
      "name": "python3"
    }
  },
  "cells": [
    {
      "cell_type": "markdown",
      "metadata": {
        "id": "view-in-github",
        "colab_type": "text"
      },
      "source": [
        "<a href=\"https://colab.research.google.com/github/N-amrata/Data-Science/blob/master/Amazon.ipynb\" target=\"_parent\"><img src=\"https://colab.research.google.com/assets/colab-badge.svg\" alt=\"Open In Colab\"/></a>"
      ]
    },
    {
      "cell_type": "code",
      "metadata": {
        "id": "AA90YZQLGj2Z"
      },
      "source": [
        "import pandas as pd\n",
        "import numpy as np\n",
        "import matplotlib.pyplot as plt\n",
        "import seaborn as sns\n",
        "import sklearn.metrics"
      ],
      "execution_count": 765,
      "outputs": []
    },
    {
      "cell_type": "code",
      "metadata": {
        "id": "MWnwXdtGHbih"
      },
      "source": [
        "train=pd.read_csv('train.csv')\n",
        "\n"
      ],
      "execution_count": 766,
      "outputs": []
    },
    {
      "cell_type": "code",
      "metadata": {
        "colab": {
          "base_uri": "https://localhost:8080/",
          "height": 224
        },
        "id": "mB5gM-NpH4br",
        "outputId": "520be09a-e470-40c0-a4c1-8b3d8be72488"
      },
      "source": [
        "train.head()"
      ],
      "execution_count": 767,
      "outputs": [
        {
          "output_type": "execute_result",
          "data": {
            "text/html": [
              "<div>\n",
              "<style scoped>\n",
              "    .dataframe tbody tr th:only-of-type {\n",
              "        vertical-align: middle;\n",
              "    }\n",
              "\n",
              "    .dataframe tbody tr th {\n",
              "        vertical-align: top;\n",
              "    }\n",
              "\n",
              "    .dataframe thead th {\n",
              "        text-align: right;\n",
              "    }\n",
              "</style>\n",
              "<table border=\"1\" class=\"dataframe\">\n",
              "  <thead>\n",
              "    <tr style=\"text-align: right;\">\n",
              "      <th></th>\n",
              "      <th>customer_id</th>\n",
              "      <th>customer_visit_score</th>\n",
              "      <th>customer_product_search_score</th>\n",
              "      <th>customer_ctr_score</th>\n",
              "      <th>customer_stay_score</th>\n",
              "      <th>customer_frequency_score</th>\n",
              "      <th>customer_product_variation_score</th>\n",
              "      <th>customer_order_score</th>\n",
              "      <th>customer_affinity_score</th>\n",
              "      <th>customer_active_segment</th>\n",
              "      <th>X1</th>\n",
              "      <th>customer_category</th>\n",
              "    </tr>\n",
              "  </thead>\n",
              "  <tbody>\n",
              "    <tr>\n",
              "      <th>0</th>\n",
              "      <td>csid_1</td>\n",
              "      <td>13.168425</td>\n",
              "      <td>9.447662</td>\n",
              "      <td>-0.070203</td>\n",
              "      <td>-0.139541</td>\n",
              "      <td>0.436956</td>\n",
              "      <td>4.705761</td>\n",
              "      <td>2.537985</td>\n",
              "      <td>7.959503</td>\n",
              "      <td>C</td>\n",
              "      <td>F</td>\n",
              "      <td>0</td>\n",
              "    </tr>\n",
              "    <tr>\n",
              "      <th>1</th>\n",
              "      <td>csid_2</td>\n",
              "      <td>17.092979</td>\n",
              "      <td>7.329056</td>\n",
              "      <td>0.153298</td>\n",
              "      <td>-0.102726</td>\n",
              "      <td>0.380340</td>\n",
              "      <td>4.205138</td>\n",
              "      <td>4.193444</td>\n",
              "      <td>17.517381</td>\n",
              "      <td>C</td>\n",
              "      <td>A</td>\n",
              "      <td>0</td>\n",
              "    </tr>\n",
              "    <tr>\n",
              "      <th>2</th>\n",
              "      <td>csid_3</td>\n",
              "      <td>17.505334</td>\n",
              "      <td>5.143676</td>\n",
              "      <td>0.106709</td>\n",
              "      <td>0.262834</td>\n",
              "      <td>0.417648</td>\n",
              "      <td>4.479070</td>\n",
              "      <td>3.878971</td>\n",
              "      <td>12.595155</td>\n",
              "      <td>C</td>\n",
              "      <td>BA</td>\n",
              "      <td>0</td>\n",
              "    </tr>\n",
              "    <tr>\n",
              "      <th>3</th>\n",
              "      <td>csid_4</td>\n",
              "      <td>31.423381</td>\n",
              "      <td>4.917740</td>\n",
              "      <td>-0.020226</td>\n",
              "      <td>-0.100526</td>\n",
              "      <td>0.778130</td>\n",
              "      <td>5.055535</td>\n",
              "      <td>2.708940</td>\n",
              "      <td>4.795073</td>\n",
              "      <td>AA</td>\n",
              "      <td>F</td>\n",
              "      <td>0</td>\n",
              "    </tr>\n",
              "    <tr>\n",
              "      <th>4</th>\n",
              "      <td>csid_5</td>\n",
              "      <td>11.909502</td>\n",
              "      <td>4.237073</td>\n",
              "      <td>0.187178</td>\n",
              "      <td>0.172891</td>\n",
              "      <td>0.162067</td>\n",
              "      <td>3.445247</td>\n",
              "      <td>3.677360</td>\n",
              "      <td>56.636326</td>\n",
              "      <td>C</td>\n",
              "      <td>AA</td>\n",
              "      <td>0</td>\n",
              "    </tr>\n",
              "  </tbody>\n",
              "</table>\n",
              "</div>"
            ],
            "text/plain": [
              "  customer_id  customer_visit_score  ...  X1  customer_category\n",
              "0      csid_1             13.168425  ...   F                  0\n",
              "1      csid_2             17.092979  ...   A                  0\n",
              "2      csid_3             17.505334  ...  BA                  0\n",
              "3      csid_4             31.423381  ...   F                  0\n",
              "4      csid_5             11.909502  ...  AA                  0\n",
              "\n",
              "[5 rows x 12 columns]"
            ]
          },
          "metadata": {
            "tags": []
          },
          "execution_count": 767
        }
      ]
    },
    {
      "cell_type": "code",
      "metadata": {
        "colab": {
          "base_uri": "https://localhost:8080/"
        },
        "id": "CbhKPdGfjYlJ",
        "outputId": "ceab6162-e6da-46bc-b1b4-7b0957cf54d0"
      },
      "source": [
        "train['X1'].value_counts()"
      ],
      "execution_count": 768,
      "outputs": [
        {
          "output_type": "execute_result",
          "data": {
            "text/plain": [
              "BA    4511\n",
              "A     2268\n",
              "F     2235\n",
              "AA    1611\n",
              "E       76\n",
              "Name: X1, dtype: int64"
            ]
          },
          "metadata": {
            "tags": []
          },
          "execution_count": 768
        }
      ]
    },
    {
      "cell_type": "code",
      "metadata": {
        "colab": {
          "base_uri": "https://localhost:8080/"
        },
        "id": "v_GAPAbujhIN",
        "outputId": "c1cccf1d-f270-4d60-b03b-0e5c538994d3"
      },
      "source": [
        "train['customer_active_segment'].value_counts()"
      ],
      "execution_count": 769,
      "outputs": [
        {
          "output_type": "execute_result",
          "data": {
            "text/plain": [
              "C     4919\n",
              "B     4430\n",
              "D      536\n",
              "AA     418\n",
              "A      412\n",
              "Name: customer_active_segment, dtype: int64"
            ]
          },
          "metadata": {
            "tags": []
          },
          "execution_count": 769
        }
      ]
    },
    {
      "cell_type": "code",
      "metadata": {
        "colab": {
          "base_uri": "https://localhost:8080/"
        },
        "id": "0xjBkpJvH-_Z",
        "outputId": "c808b22b-7224-4ebc-94f9-6a7a207b0b81"
      },
      "source": [
        "train.info()"
      ],
      "execution_count": 770,
      "outputs": [
        {
          "output_type": "stream",
          "text": [
            "<class 'pandas.core.frame.DataFrame'>\n",
            "RangeIndex: 10738 entries, 0 to 10737\n",
            "Data columns (total 12 columns):\n",
            " #   Column                            Non-Null Count  Dtype  \n",
            "---  ------                            --------------  -----  \n",
            " 0   customer_id                       10738 non-null  object \n",
            " 1   customer_visit_score              10738 non-null  float64\n",
            " 2   customer_product_search_score     10696 non-null  float64\n",
            " 3   customer_ctr_score                10738 non-null  float64\n",
            " 4   customer_stay_score               10701 non-null  float64\n",
            " 5   customer_frequency_score          10738 non-null  float64\n",
            " 6   customer_product_variation_score  10692 non-null  float64\n",
            " 7   customer_order_score              10672 non-null  float64\n",
            " 8   customer_affinity_score           10738 non-null  float64\n",
            " 9   customer_active_segment           10715 non-null  object \n",
            " 10  X1                                10701 non-null  object \n",
            " 11  customer_category                 10738 non-null  int64  \n",
            "dtypes: float64(8), int64(1), object(3)\n",
            "memory usage: 1006.8+ KB\n"
          ],
          "name": "stdout"
        }
      ]
    },
    {
      "cell_type": "code",
      "metadata": {
        "id": "Dydgln1ROHyX"
      },
      "source": [
        ""
      ],
      "execution_count": 770,
      "outputs": []
    },
    {
      "cell_type": "code",
      "metadata": {
        "colab": {
          "base_uri": "https://localhost:8080/",
          "height": 317
        },
        "id": "_FGeqZyjIHRO",
        "outputId": "08de93c7-e208-45c1-e89f-ad68385f1f4a"
      },
      "source": [
        "train.describe()"
      ],
      "execution_count": 771,
      "outputs": [
        {
          "output_type": "execute_result",
          "data": {
            "text/html": [
              "<div>\n",
              "<style scoped>\n",
              "    .dataframe tbody tr th:only-of-type {\n",
              "        vertical-align: middle;\n",
              "    }\n",
              "\n",
              "    .dataframe tbody tr th {\n",
              "        vertical-align: top;\n",
              "    }\n",
              "\n",
              "    .dataframe thead th {\n",
              "        text-align: right;\n",
              "    }\n",
              "</style>\n",
              "<table border=\"1\" class=\"dataframe\">\n",
              "  <thead>\n",
              "    <tr style=\"text-align: right;\">\n",
              "      <th></th>\n",
              "      <th>customer_visit_score</th>\n",
              "      <th>customer_product_search_score</th>\n",
              "      <th>customer_ctr_score</th>\n",
              "      <th>customer_stay_score</th>\n",
              "      <th>customer_frequency_score</th>\n",
              "      <th>customer_product_variation_score</th>\n",
              "      <th>customer_order_score</th>\n",
              "      <th>customer_affinity_score</th>\n",
              "      <th>customer_category</th>\n",
              "    </tr>\n",
              "  </thead>\n",
              "  <tbody>\n",
              "    <tr>\n",
              "      <th>count</th>\n",
              "      <td>10738.000000</td>\n",
              "      <td>10696.000000</td>\n",
              "      <td>10738.000000</td>\n",
              "      <td>10701.000000</td>\n",
              "      <td>10738.000000</td>\n",
              "      <td>10692.000000</td>\n",
              "      <td>10672.000000</td>\n",
              "      <td>10738.000000</td>\n",
              "      <td>10738.000000</td>\n",
              "    </tr>\n",
              "    <tr>\n",
              "      <th>mean</th>\n",
              "      <td>19.060941</td>\n",
              "      <td>5.274847</td>\n",
              "      <td>0.175912</td>\n",
              "      <td>0.374230</td>\n",
              "      <td>2.376895</td>\n",
              "      <td>5.788180</td>\n",
              "      <td>3.150071</td>\n",
              "      <td>17.061836</td>\n",
              "      <td>0.120600</td>\n",
              "    </tr>\n",
              "    <tr>\n",
              "      <th>std</th>\n",
              "      <td>7.419609</td>\n",
              "      <td>1.882559</td>\n",
              "      <td>0.372829</td>\n",
              "      <td>1.222031</td>\n",
              "      <td>5.601911</td>\n",
              "      <td>2.531309</td>\n",
              "      <td>1.035416</td>\n",
              "      <td>18.762693</td>\n",
              "      <td>0.325677</td>\n",
              "    </tr>\n",
              "    <tr>\n",
              "      <th>min</th>\n",
              "      <td>0.568965</td>\n",
              "      <td>-0.161940</td>\n",
              "      <td>-0.547989</td>\n",
              "      <td>-0.462494</td>\n",
              "      <td>0.028575</td>\n",
              "      <td>2.752836</td>\n",
              "      <td>0.363338</td>\n",
              "      <td>-0.486834</td>\n",
              "      <td>0.000000</td>\n",
              "    </tr>\n",
              "    <tr>\n",
              "      <th>25%</th>\n",
              "      <td>13.518021</td>\n",
              "      <td>3.971587</td>\n",
              "      <td>0.010840</td>\n",
              "      <td>-0.027666</td>\n",
              "      <td>0.313610</td>\n",
              "      <td>4.193234</td>\n",
              "      <td>2.454017</td>\n",
              "      <td>4.530085</td>\n",
              "      <td>0.000000</td>\n",
              "    </tr>\n",
              "    <tr>\n",
              "      <th>50%</th>\n",
              "      <td>18.774109</td>\n",
              "      <td>5.218479</td>\n",
              "      <td>0.074078</td>\n",
              "      <td>0.037201</td>\n",
              "      <td>0.516830</td>\n",
              "      <td>4.842575</td>\n",
              "      <td>3.118394</td>\n",
              "      <td>12.653357</td>\n",
              "      <td>0.000000</td>\n",
              "    </tr>\n",
              "    <tr>\n",
              "      <th>75%</th>\n",
              "      <td>24.501719</td>\n",
              "      <td>6.520364</td>\n",
              "      <td>0.159606</td>\n",
              "      <td>0.179029</td>\n",
              "      <td>1.125380</td>\n",
              "      <td>6.286400</td>\n",
              "      <td>3.756566</td>\n",
              "      <td>23.114577</td>\n",
              "      <td>0.000000</td>\n",
              "    </tr>\n",
              "    <tr>\n",
              "      <th>max</th>\n",
              "      <td>47.306691</td>\n",
              "      <td>16.638243</td>\n",
              "      <td>2.679474</td>\n",
              "      <td>14.701914</td>\n",
              "      <td>52.395014</td>\n",
              "      <td>18.743836</td>\n",
              "      <td>9.090206</td>\n",
              "      <td>248.552755</td>\n",
              "      <td>1.000000</td>\n",
              "    </tr>\n",
              "  </tbody>\n",
              "</table>\n",
              "</div>"
            ],
            "text/plain": [
              "       customer_visit_score  ...  customer_category\n",
              "count          10738.000000  ...       10738.000000\n",
              "mean              19.060941  ...           0.120600\n",
              "std                7.419609  ...           0.325677\n",
              "min                0.568965  ...           0.000000\n",
              "25%               13.518021  ...           0.000000\n",
              "50%               18.774109  ...           0.000000\n",
              "75%               24.501719  ...           0.000000\n",
              "max               47.306691  ...           1.000000\n",
              "\n",
              "[8 rows x 9 columns]"
            ]
          },
          "metadata": {
            "tags": []
          },
          "execution_count": 771
        }
      ]
    },
    {
      "cell_type": "code",
      "metadata": {
        "colab": {
          "base_uri": "https://localhost:8080/",
          "height": 447
        },
        "id": "Lr3P-XHvPpAz",
        "outputId": "27440832-42a0-4016-ce94-8d665fdde840"
      },
      "source": [
        "# calculate correlation matrix\n",
        "corr = train.corr()# plot the heatmap\n",
        "sns.heatmap(corr, xticklabels=corr.columns, yticklabels=corr.columns, annot=True, cmap=sns.diverging_palette(230, 100, as_cmap=True))"
      ],
      "execution_count": 772,
      "outputs": [
        {
          "output_type": "execute_result",
          "data": {
            "text/plain": [
              "<matplotlib.axes._subplots.AxesSubplot at 0x7f59b6bba8d0>"
            ]
          },
          "metadata": {
            "tags": []
          },
          "execution_count": 772
        },
        {
          "output_type": "display_data",
          "data": {
            "image/png": "[encoded data removed]",
            "text/plain": [
              "<Figure size 432x288 with 2 Axes>"
            ]
          },
          "metadata": {
            "tags": [],
            "needs_background": "light"
          }
        }
      ]
    },
    {
      "cell_type": "code",
      "metadata": {
        "id": "9vcFYnbdYfGf"
      },
      "source": [
        "#Performing Target based encoding for Coulmns X1 and customer_active_segment\n",
        "from sklearn import base\n",
        "from sklearn.model_selection import KFold\n",
        "class KFoldTargetEncoderTrain(base.BaseEstimator,base.TransformerMixin):\n",
        "    def __init__(self,colnames,targetName,\n",
        "                  n_fold=5, verbosity=True,\n",
        "                  discardOriginal_col=False):\n",
        "        self.colnames = colnames\n",
        "        self.targetName = targetName\n",
        "        self.n_fold = n_fold\n",
        "        self.verbosity = verbosity\n",
        "        self.discardOriginal_col = discardOriginal_col\n",
        "    def fit(self, X, y=None):\n",
        "        return self\n",
        "    def transform(self,X):\n",
        "   #     assert(type(self.targetName) == str)\n",
        "    #    assert(type(self.colnames) == str)\n",
        "    #    assert(self.colnames in X.columns)\n",
        "     #   assert(self.targetName in X.columns)\n",
        "        mean_of_target = X[self.targetName].mean()\n",
        "        kf = KFold(n_splits = self.n_fold,\n",
        "                   shuffle = True, random_state=2019)\n",
        "        print(kf)\n",
        "        col_mean_name = self.colnames + '_' + 'Kfold_Target_Enc'\n",
        "        X[col_mean_name] = np.nan\n",
        "        for tr_ind, val_ind in kf.split(X):\n",
        "            X_tr, X_val = X.iloc[tr_ind], X.iloc[val_ind]\n",
        "            #train set and validation set\n",
        "            X.loc[X.index[val_ind], col_mean_name] = X_val[self.colnames].map(X_tr.groupby(self.colnames)\n",
        "                                     [self.targetName].mean())\n",
        "            #test set you take the average of the target values of all samples that have a given category in the entire train set.\n",
        "            X[col_mean_name].fillna(mean_of_target, inplace = True)\n",
        "        if self.verbosity:\n",
        "            encoded_feature = X[col_mean_name].values\n",
        "            print('Correlation between the new feature, {} and, {} is {}.'.format(col_mean_name,self.targetName,                    \n",
        "                   np.corrcoef(X[self.targetName].values,\n",
        "                               encoded_feature)[0][1]))\n",
        "        if self.discardOriginal_col:\n",
        "            X = X.drop(self.targetName, axis=1)\n",
        "        return X\n"
      ],
      "execution_count": 773,
      "outputs": []
    },
    {
      "cell_type": "code",
      "metadata": {
        "colab": {
          "base_uri": "https://localhost:8080/"
        },
        "id": "q043Ea2tq5yc",
        "outputId": "cdf91c35-421f-419d-e697-f05152b933f1"
      },
      "source": [
        "targetc = KFoldTargetEncoderTrain('X1','customer_category',n_fold=5)\n",
        "new_train = targetc.fit_transform(train)\n",
        "\n"
      ],
      "execution_count": 774,
      "outputs": [
        {
          "output_type": "stream",
          "text": [
            "KFold(n_splits=5, random_state=2019, shuffle=True)\n",
            "Correlation between the new feature, X1_Kfold_Target_Enc and, customer_category is 0.2800996137756755.\n"
          ],
          "name": "stdout"
        }
      ]
    },
    {
      "cell_type": "code",
      "metadata": {
        "colab": {
          "base_uri": "https://localhost:8080/"
        },
        "id": "l-TEEacpv-ZN",
        "outputId": "886f0f5e-6a39-4002-8c53-9bab9b97bf07"
      },
      "source": [
        "targetc = KFoldTargetEncoderTrain('customer_active_segment','customer_category',n_fold=5)\n",
        "new_train = targetc.fit_transform(train)"
      ],
      "execution_count": 775,
      "outputs": [
        {
          "output_type": "stream",
          "text": [
            "KFold(n_splits=5, random_state=2019, shuffle=True)\n",
            "Correlation between the new feature, customer_active_segment_Kfold_Target_Enc and, customer_category is 0.43072625807702253.\n"
          ],
          "name": "stdout"
        }
      ]
    },
    {
      "cell_type": "code",
      "metadata": {
        "colab": {
          "base_uri": "https://localhost:8080/",
          "height": 224
        },
        "id": "iM6MM7KLwOXR",
        "outputId": "896014b7-6abd-42fa-c1b5-081041089f35"
      },
      "source": [
        "new_train.head()"
      ],
      "execution_count": 776,
      "outputs": [
        {
          "output_type": "execute_result",
          "data": {
            "text/html": [
              "<div>\n",
              "<style scoped>\n",
              "    .dataframe tbody tr th:only-of-type {\n",
              "        vertical-align: middle;\n",
              "    }\n",
              "\n",
              "    .dataframe tbody tr th {\n",
              "        vertical-align: top;\n",
              "    }\n",
              "\n",
              "    .dataframe thead th {\n",
              "        text-align: right;\n",
              "    }\n",
              "</style>\n",
              "<table border=\"1\" class=\"dataframe\">\n",
              "  <thead>\n",
              "    <tr style=\"text-align: right;\">\n",
              "      <th></th>\n",
              "      <th>customer_id</th>\n",
              "      <th>customer_visit_score</th>\n",
              "      <th>customer_product_search_score</th>\n",
              "      <th>customer_ctr_score</th>\n",
              "      <th>customer_stay_score</th>\n",
              "      <th>customer_frequency_score</th>\n",
              "      <th>customer_product_variation_score</th>\n",
              "      <th>customer_order_score</th>\n",
              "      <th>customer_affinity_score</th>\n",
              "      <th>customer_active_segment</th>\n",
              "      <th>X1</th>\n",
              "      <th>customer_category</th>\n",
              "      <th>X1_Kfold_Target_Enc</th>\n",
              "      <th>customer_active_segment_Kfold_Target_Enc</th>\n",
              "    </tr>\n",
              "  </thead>\n",
              "  <tbody>\n",
              "    <tr>\n",
              "      <th>0</th>\n",
              "      <td>csid_1</td>\n",
              "      <td>13.168425</td>\n",
              "      <td>9.447662</td>\n",
              "      <td>-0.070203</td>\n",
              "      <td>-0.139541</td>\n",
              "      <td>0.436956</td>\n",
              "      <td>4.705761</td>\n",
              "      <td>2.537985</td>\n",
              "      <td>7.959503</td>\n",
              "      <td>C</td>\n",
              "      <td>F</td>\n",
              "      <td>0</td>\n",
              "      <td>0.259321</td>\n",
              "      <td>0.126206</td>\n",
              "    </tr>\n",
              "    <tr>\n",
              "      <th>1</th>\n",
              "      <td>csid_2</td>\n",
              "      <td>17.092979</td>\n",
              "      <td>7.329056</td>\n",
              "      <td>0.153298</td>\n",
              "      <td>-0.102726</td>\n",
              "      <td>0.380340</td>\n",
              "      <td>4.205138</td>\n",
              "      <td>4.193444</td>\n",
              "      <td>17.517381</td>\n",
              "      <td>C</td>\n",
              "      <td>A</td>\n",
              "      <td>0</td>\n",
              "      <td>0.015008</td>\n",
              "      <td>0.129179</td>\n",
              "    </tr>\n",
              "    <tr>\n",
              "      <th>2</th>\n",
              "      <td>csid_3</td>\n",
              "      <td>17.505334</td>\n",
              "      <td>5.143676</td>\n",
              "      <td>0.106709</td>\n",
              "      <td>0.262834</td>\n",
              "      <td>0.417648</td>\n",
              "      <td>4.479070</td>\n",
              "      <td>3.878971</td>\n",
              "      <td>12.595155</td>\n",
              "      <td>C</td>\n",
              "      <td>BA</td>\n",
              "      <td>0</td>\n",
              "      <td>0.150959</td>\n",
              "      <td>0.129179</td>\n",
              "    </tr>\n",
              "    <tr>\n",
              "      <th>3</th>\n",
              "      <td>csid_4</td>\n",
              "      <td>31.423381</td>\n",
              "      <td>4.917740</td>\n",
              "      <td>-0.020226</td>\n",
              "      <td>-0.100526</td>\n",
              "      <td>0.778130</td>\n",
              "      <td>5.055535</td>\n",
              "      <td>2.708940</td>\n",
              "      <td>4.795073</td>\n",
              "      <td>AA</td>\n",
              "      <td>F</td>\n",
              "      <td>0</td>\n",
              "      <td>0.255284</td>\n",
              "      <td>0.006173</td>\n",
              "    </tr>\n",
              "    <tr>\n",
              "      <th>4</th>\n",
              "      <td>csid_5</td>\n",
              "      <td>11.909502</td>\n",
              "      <td>4.237073</td>\n",
              "      <td>0.187178</td>\n",
              "      <td>0.172891</td>\n",
              "      <td>0.162067</td>\n",
              "      <td>3.445247</td>\n",
              "      <td>3.677360</td>\n",
              "      <td>56.636326</td>\n",
              "      <td>C</td>\n",
              "      <td>AA</td>\n",
              "      <td>0</td>\n",
              "      <td>0.011006</td>\n",
              "      <td>0.129179</td>\n",
              "    </tr>\n",
              "  </tbody>\n",
              "</table>\n",
              "</div>"
            ],
            "text/plain": [
              "  customer_id  ...  customer_active_segment_Kfold_Target_Enc\n",
              "0      csid_1  ...                                  0.126206\n",
              "1      csid_2  ...                                  0.129179\n",
              "2      csid_3  ...                                  0.129179\n",
              "3      csid_4  ...                                  0.006173\n",
              "4      csid_5  ...                                  0.129179\n",
              "\n",
              "[5 rows x 14 columns]"
            ]
          },
          "metadata": {
            "tags": []
          },
          "execution_count": 776
        }
      ]
    },
    {
      "cell_type": "code",
      "metadata": {
        "id": "o8a-mY0xKWpT"
      },
      "source": [
        "new_train['X1']=new_train['X1_Kfold_Target_Enc']\n",
        "new_train['customer_active_segment']=new_train['customer_active_segment_Kfold_Target_Enc']"
      ],
      "execution_count": 777,
      "outputs": []
    },
    {
      "cell_type": "code",
      "metadata": {
        "id": "ejeFwMudxQf6"
      },
      "source": [
        "new_train.drop(['X1_Kfold_Target_Enc','customer_active_segment_Kfold_Target_Enc','customer_id'],axis=1,inplace=True)"
      ],
      "execution_count": 778,
      "outputs": []
    },
    {
      "cell_type": "code",
      "metadata": {
        "colab": {
          "base_uri": "https://localhost:8080/"
        },
        "id": "sagY1trvzXHo",
        "outputId": "5d554c81-d4d2-476d-c250-1a9cb552febb"
      },
      "source": [
        "new_train.info()"
      ],
      "execution_count": 779,
      "outputs": [
        {
          "output_type": "stream",
          "text": [
            "<class 'pandas.core.frame.DataFrame'>\n",
            "RangeIndex: 10738 entries, 0 to 10737\n",
            "Data columns (total 11 columns):\n",
            " #   Column                            Non-Null Count  Dtype  \n",
            "---  ------                            --------------  -----  \n",
            " 0   customer_visit_score              10738 non-null  float64\n",
            " 1   customer_product_search_score     10696 non-null  float64\n",
            " 2   customer_ctr_score                10738 non-null  float64\n",
            " 3   customer_stay_score               10701 non-null  float64\n",
            " 4   customer_frequency_score          10738 non-null  float64\n",
            " 5   customer_product_variation_score  10692 non-null  float64\n",
            " 6   customer_order_score              10672 non-null  float64\n",
            " 7   customer_affinity_score           10738 non-null  float64\n",
            " 8   customer_active_segment           10738 non-null  float64\n",
            " 9   X1                                10738 non-null  float64\n",
            " 10  customer_category                 10738 non-null  int64  \n",
            "dtypes: float64(10), int64(1)\n",
            "memory usage: 922.9 KB\n"
          ],
          "name": "stdout"
        }
      ]
    },
    {
      "cell_type": "code",
      "metadata": {
        "colab": {
          "base_uri": "https://localhost:8080/",
          "height": 317
        },
        "id": "8DMvHHBLGJO7",
        "outputId": "c41d7f67-41a8-4340-a705-3b980d0f5472"
      },
      "source": [
        "new_train.describe()"
      ],
      "execution_count": 780,
      "outputs": [
        {
          "output_type": "execute_result",
          "data": {
            "text/html": [
              "<div>\n",
              "<style scoped>\n",
              "    .dataframe tbody tr th:only-of-type {\n",
              "        vertical-align: middle;\n",
              "    }\n",
              "\n",
              "    .dataframe tbody tr th {\n",
              "        vertical-align: top;\n",
              "    }\n",
              "\n",
              "    .dataframe thead th {\n",
              "        text-align: right;\n",
              "    }\n",
              "</style>\n",
              "<table border=\"1\" class=\"dataframe\">\n",
              "  <thead>\n",
              "    <tr style=\"text-align: right;\">\n",
              "      <th></th>\n",
              "      <th>customer_visit_score</th>\n",
              "      <th>customer_product_search_score</th>\n",
              "      <th>customer_ctr_score</th>\n",
              "      <th>customer_stay_score</th>\n",
              "      <th>customer_frequency_score</th>\n",
              "      <th>customer_product_variation_score</th>\n",
              "      <th>customer_order_score</th>\n",
              "      <th>customer_affinity_score</th>\n",
              "      <th>customer_active_segment</th>\n",
              "      <th>X1</th>\n",
              "      <th>customer_category</th>\n",
              "    </tr>\n",
              "  </thead>\n",
              "  <tbody>\n",
              "    <tr>\n",
              "      <th>count</th>\n",
              "      <td>10738.000000</td>\n",
              "      <td>10696.000000</td>\n",
              "      <td>10738.000000</td>\n",
              "      <td>10701.000000</td>\n",
              "      <td>10738.000000</td>\n",
              "      <td>10692.000000</td>\n",
              "      <td>10672.000000</td>\n",
              "      <td>10738.000000</td>\n",
              "      <td>10738.000000</td>\n",
              "      <td>10738.000000</td>\n",
              "      <td>10738.000000</td>\n",
              "    </tr>\n",
              "    <tr>\n",
              "      <th>mean</th>\n",
              "      <td>19.060941</td>\n",
              "      <td>5.274847</td>\n",
              "      <td>0.175912</td>\n",
              "      <td>0.374230</td>\n",
              "      <td>2.376895</td>\n",
              "      <td>5.788180</td>\n",
              "      <td>3.150071</td>\n",
              "      <td>17.061836</td>\n",
              "      <td>0.120646</td>\n",
              "      <td>0.120597</td>\n",
              "      <td>0.120600</td>\n",
              "    </tr>\n",
              "    <tr>\n",
              "      <th>std</th>\n",
              "      <td>7.419609</td>\n",
              "      <td>1.882559</td>\n",
              "      <td>0.372829</td>\n",
              "      <td>1.222031</td>\n",
              "      <td>5.601911</td>\n",
              "      <td>2.531309</td>\n",
              "      <td>1.035416</td>\n",
              "      <td>18.762693</td>\n",
              "      <td>0.140529</td>\n",
              "      <td>0.091593</td>\n",
              "      <td>0.325677</td>\n",
              "    </tr>\n",
              "    <tr>\n",
              "      <th>min</th>\n",
              "      <td>0.568965</td>\n",
              "      <td>-0.161940</td>\n",
              "      <td>-0.547989</td>\n",
              "      <td>-0.462494</td>\n",
              "      <td>0.028575</td>\n",
              "      <td>2.752836</td>\n",
              "      <td>0.363338</td>\n",
              "      <td>-0.486834</td>\n",
              "      <td>0.000000</td>\n",
              "      <td>0.011006</td>\n",
              "      <td>0.000000</td>\n",
              "    </tr>\n",
              "    <tr>\n",
              "      <th>25%</th>\n",
              "      <td>13.518021</td>\n",
              "      <td>3.971587</td>\n",
              "      <td>0.010840</td>\n",
              "      <td>-0.027666</td>\n",
              "      <td>0.313610</td>\n",
              "      <td>4.193234</td>\n",
              "      <td>2.454017</td>\n",
              "      <td>4.530085</td>\n",
              "      <td>0.063595</td>\n",
              "      <td>0.014803</td>\n",
              "      <td>0.000000</td>\n",
              "    </tr>\n",
              "    <tr>\n",
              "      <th>50%</th>\n",
              "      <td>18.774109</td>\n",
              "      <td>5.218479</td>\n",
              "      <td>0.074078</td>\n",
              "      <td>0.037201</td>\n",
              "      <td>0.516830</td>\n",
              "      <td>4.842575</td>\n",
              "      <td>3.118394</td>\n",
              "      <td>12.653357</td>\n",
              "      <td>0.123717</td>\n",
              "      <td>0.143493</td>\n",
              "      <td>0.000000</td>\n",
              "    </tr>\n",
              "    <tr>\n",
              "      <th>75%</th>\n",
              "      <td>24.501719</td>\n",
              "      <td>6.520364</td>\n",
              "      <td>0.159606</td>\n",
              "      <td>0.179029</td>\n",
              "      <td>1.125380</td>\n",
              "      <td>6.286400</td>\n",
              "      <td>3.756566</td>\n",
              "      <td>23.114577</td>\n",
              "      <td>0.126206</td>\n",
              "      <td>0.150959</td>\n",
              "      <td>0.000000</td>\n",
              "    </tr>\n",
              "    <tr>\n",
              "      <th>max</th>\n",
              "      <td>47.306691</td>\n",
              "      <td>16.638243</td>\n",
              "      <td>2.679474</td>\n",
              "      <td>14.701914</td>\n",
              "      <td>52.395014</td>\n",
              "      <td>18.743836</td>\n",
              "      <td>9.090206</td>\n",
              "      <td>248.552755</td>\n",
              "      <td>0.721461</td>\n",
              "      <td>0.262864</td>\n",
              "      <td>1.000000</td>\n",
              "    </tr>\n",
              "  </tbody>\n",
              "</table>\n",
              "</div>"
            ],
            "text/plain": [
              "       customer_visit_score  ...  customer_category\n",
              "count          10738.000000  ...       10738.000000\n",
              "mean              19.060941  ...           0.120600\n",
              "std                7.419609  ...           0.325677\n",
              "min                0.568965  ...           0.000000\n",
              "25%               13.518021  ...           0.000000\n",
              "50%               18.774109  ...           0.000000\n",
              "75%               24.501719  ...           0.000000\n",
              "max               47.306691  ...           1.000000\n",
              "\n",
              "[8 rows x 11 columns]"
            ]
          },
          "metadata": {
            "tags": []
          },
          "execution_count": 780
        }
      ]
    },
    {
      "cell_type": "code",
      "metadata": {
        "colab": {
          "base_uri": "https://localhost:8080/",
          "height": 1000
        },
        "id": "f_TAI8DVGpSw",
        "outputId": "1db8318e-d02b-43f6-ab52-c9d97e86aab9"
      },
      "source": [
        "#This gives general idea if there are outliers\n",
        "new_train.hist(bins=30,figsize=(20,20), color='r')"
      ],
      "execution_count": 781,
      "outputs": [
        {
          "output_type": "execute_result",
          "data": {
            "text/plain": [
              "array([[<matplotlib.axes._subplots.AxesSubplot object at 0x7f59b6ac4828>,\n",
              "        <matplotlib.axes._subplots.AxesSubplot object at 0x7f59b7bc6400>,\n",
              "        <matplotlib.axes._subplots.AxesSubplot object at 0x7f59b7bf8710>],\n",
              "       [<matplotlib.axes._subplots.AxesSubplot object at 0x7f59b6a9fa90>,\n",
              "        <matplotlib.axes._subplots.AxesSubplot object at 0x7f59b6a4ce10>,\n",
              "        <matplotlib.axes._subplots.AxesSubplot object at 0x7f59b6a061d0>],\n",
              "       [<matplotlib.axes._subplots.AxesSubplot object at 0x7f59b6a33550>,\n",
              "        <matplotlib.axes._subplots.AxesSubplot object at 0x7f59b69e1898>,\n",
              "        <matplotlib.axes._subplots.AxesSubplot object at 0x7f59b69e1908>],\n",
              "       [<matplotlib.axes._subplots.AxesSubplot object at 0x7f59b6945fd0>,\n",
              "        <matplotlib.axes._subplots.AxesSubplot object at 0x7f59b6901390>,\n",
              "        <matplotlib.axes._subplots.AxesSubplot object at 0x7f59b6932710>]],\n",
              "      dtype=object)"
            ]
          },
          "metadata": {
            "tags": []
          },
          "execution_count": 781
        },
        {
          "output_type": "display_data",
          "data": {
            "image/png": "[encoded data removed]",
            "text/plain": [
              "<Figure size 1440x1440 with 12 Axes>"
            ]
          },
          "metadata": {
            "tags": [],
            "needs_background": "light"
          }
        }
      ]
    },
    {
      "cell_type": "code",
      "metadata": {
        "id": "MVZ3fPyoKiru"
      },
      "source": [
        "#Removing outliers using inter-quartile range\n",
        "cols = ['customer_visit_score','customer_product_search_score','customer_ctr_score','customer_stay_score','customer_frequency_score','customer_product_variation_score','customer_order_score','customer_affinity_score'] # one or more\n",
        "\n",
        "Q1 = new_train[cols].quantile(0.25)\n",
        "Q3 = new_train[cols].quantile(0.75)\n",
        "IQR = Q3 - Q1\n",
        "\n",
        "train = new_train[~((train[cols] < (Q1 - 1.5 * IQR)) |(new_train[cols] > (Q3 + 1.5 * IQR))).any(axis=1)]"
      ],
      "execution_count": 782,
      "outputs": []
    },
    {
      "cell_type": "code",
      "metadata": {
        "colab": {
          "base_uri": "https://localhost:8080/",
          "height": 317
        },
        "id": "zN9kCpDRazlK",
        "outputId": "ae32630f-de50-46c5-d26e-c5559e7dc4f2"
      },
      "source": [
        "train.describe()"
      ],
      "execution_count": 783,
      "outputs": [
        {
          "output_type": "execute_result",
          "data": {
            "text/html": [
              "<div>\n",
              "<style scoped>\n",
              "    .dataframe tbody tr th:only-of-type {\n",
              "        vertical-align: middle;\n",
              "    }\n",
              "\n",
              "    .dataframe tbody tr th {\n",
              "        vertical-align: top;\n",
              "    }\n",
              "\n",
              "    .dataframe thead th {\n",
              "        text-align: right;\n",
              "    }\n",
              "</style>\n",
              "<table border=\"1\" class=\"dataframe\">\n",
              "  <thead>\n",
              "    <tr style=\"text-align: right;\">\n",
              "      <th></th>\n",
              "      <th>customer_visit_score</th>\n",
              "      <th>customer_product_search_score</th>\n",
              "      <th>customer_ctr_score</th>\n",
              "      <th>customer_stay_score</th>\n",
              "      <th>customer_frequency_score</th>\n",
              "      <th>customer_product_variation_score</th>\n",
              "      <th>customer_order_score</th>\n",
              "      <th>customer_affinity_score</th>\n",
              "      <th>customer_active_segment</th>\n",
              "      <th>X1</th>\n",
              "      <th>customer_category</th>\n",
              "    </tr>\n",
              "  </thead>\n",
              "  <tbody>\n",
              "    <tr>\n",
              "      <th>count</th>\n",
              "      <td>7874.000000</td>\n",
              "      <td>7839.000000</td>\n",
              "      <td>7874.000000</td>\n",
              "      <td>7845.000000</td>\n",
              "      <td>7874.000000</td>\n",
              "      <td>7837.000000</td>\n",
              "      <td>7821.000000</td>\n",
              "      <td>7874.000000</td>\n",
              "      <td>7874.000000</td>\n",
              "      <td>7874.000000</td>\n",
              "      <td>7874.000000</td>\n",
              "    </tr>\n",
              "    <tr>\n",
              "      <th>mean</th>\n",
              "      <td>20.301394</td>\n",
              "      <td>5.456480</td>\n",
              "      <td>0.065764</td>\n",
              "      <td>0.051862</td>\n",
              "      <td>0.570897</td>\n",
              "      <td>4.866213</td>\n",
              "      <td>3.325380</td>\n",
              "      <td>17.122685</td>\n",
              "      <td>0.097795</td>\n",
              "      <td>0.108675</td>\n",
              "      <td>0.017653</td>\n",
              "    </tr>\n",
              "    <tr>\n",
              "      <th>std</th>\n",
              "      <td>6.551667</td>\n",
              "      <td>1.652104</td>\n",
              "      <td>0.085738</td>\n",
              "      <td>0.124856</td>\n",
              "      <td>0.396499</td>\n",
              "      <td>1.035776</td>\n",
              "      <td>0.724480</td>\n",
              "      <td>11.005005</td>\n",
              "      <td>0.083992</td>\n",
              "      <td>0.088256</td>\n",
              "      <td>0.131695</td>\n",
              "    </tr>\n",
              "    <tr>\n",
              "      <th>min</th>\n",
              "      <td>6.959290</td>\n",
              "      <td>0.729173</td>\n",
              "      <td>-0.206223</td>\n",
              "      <td>-0.236595</td>\n",
              "      <td>0.061014</td>\n",
              "      <td>2.961378</td>\n",
              "      <td>1.599714</td>\n",
              "      <td>0.505918</td>\n",
              "      <td>0.000000</td>\n",
              "      <td>0.011006</td>\n",
              "      <td>0.000000</td>\n",
              "    </tr>\n",
              "    <tr>\n",
              "      <th>25%</th>\n",
              "      <td>14.886533</td>\n",
              "      <td>4.273116</td>\n",
              "      <td>0.006002</td>\n",
              "      <td>-0.032870</td>\n",
              "      <td>0.306064</td>\n",
              "      <td>4.146447</td>\n",
              "      <td>2.805574</td>\n",
              "      <td>8.495286</td>\n",
              "      <td>0.062994</td>\n",
              "      <td>0.014803</td>\n",
              "      <td>0.000000</td>\n",
              "    </tr>\n",
              "    <tr>\n",
              "      <th>50%</th>\n",
              "      <td>19.959487</td>\n",
              "      <td>5.375487</td>\n",
              "      <td>0.060567</td>\n",
              "      <td>0.021469</td>\n",
              "      <td>0.457062</td>\n",
              "      <td>4.655135</td>\n",
              "      <td>3.268828</td>\n",
              "      <td>14.804098</td>\n",
              "      <td>0.065662</td>\n",
              "      <td>0.143255</td>\n",
              "      <td>0.000000</td>\n",
              "    </tr>\n",
              "    <tr>\n",
              "      <th>75%</th>\n",
              "      <td>25.206123</td>\n",
              "      <td>6.589078</td>\n",
              "      <td>0.120492</td>\n",
              "      <td>0.105190</td>\n",
              "      <td>0.692231</td>\n",
              "      <td>5.350941</td>\n",
              "      <td>3.786002</td>\n",
              "      <td>23.564231</td>\n",
              "      <td>0.126206</td>\n",
              "      <td>0.147059</td>\n",
              "      <td>0.000000</td>\n",
              "    </tr>\n",
              "    <tr>\n",
              "      <th>max</th>\n",
              "      <td>40.671151</td>\n",
              "      <td>10.338975</td>\n",
              "      <td>0.378051</td>\n",
              "      <td>0.488577</td>\n",
              "      <td>2.341533</td>\n",
              "      <td>9.414549</td>\n",
              "      <td>5.694993</td>\n",
              "      <td>50.986320</td>\n",
              "      <td>0.721461</td>\n",
              "      <td>0.262864</td>\n",
              "      <td>1.000000</td>\n",
              "    </tr>\n",
              "  </tbody>\n",
              "</table>\n",
              "</div>"
            ],
            "text/plain": [
              "       customer_visit_score  ...  customer_category\n",
              "count           7874.000000  ...        7874.000000\n",
              "mean              20.301394  ...           0.017653\n",
              "std                6.551667  ...           0.131695\n",
              "min                6.959290  ...           0.000000\n",
              "25%               14.886533  ...           0.000000\n",
              "50%               19.959487  ...           0.000000\n",
              "75%               25.206123  ...           0.000000\n",
              "max               40.671151  ...           1.000000\n",
              "\n",
              "[8 rows x 11 columns]"
            ]
          },
          "metadata": {
            "tags": []
          },
          "execution_count": 783
        }
      ]
    },
    {
      "cell_type": "code",
      "metadata": {
        "colab": {
          "base_uri": "https://localhost:8080/",
          "height": 535
        },
        "id": "NN9sXvWPgImp",
        "outputId": "2a02035c-70d2-4d71-eab9-343c0a1ce3aa"
      },
      "source": [
        "#Visualizing null values\n",
        "sns.heatmap(train.isnull(), cmap='Blues',yticklabels=False,cbar='False')\n",
        "train.replace([np.inf, -np.inf], np.nan, inplace=True)"
      ],
      "execution_count": 784,
      "outputs": [
        {
          "output_type": "stream",
          "text": [
            "/usr/local/lib/python3.6/dist-packages/pandas/core/frame.py:4389: SettingWithCopyWarning: \n",
            "A value is trying to be set on a copy of a slice from a DataFrame\n",
            "\n",
            "See the caveats in the documentation: https://pandas.pydata.org/pandas-docs/stable/user_guide/indexing.html#returning-a-view-versus-a-copy\n",
            "  method=method,\n"
          ],
          "name": "stderr"
        },
        {
          "output_type": "display_data",
          "data": {
            "image/png": "[encoded data removed]",
            "text/plain": [
              "<Figure size 432x288 with 2 Axes>"
            ]
          },
          "metadata": {
            "tags": [],
            "needs_background": "light"
          }
        }
      ]
    },
    {
      "cell_type": "code",
      "metadata": {
        "colab": {
          "base_uri": "https://localhost:8080/"
        },
        "id": "md9FBgdngx1g",
        "outputId": "f8f31d05-11eb-4ece-ab0e-1cc411de335d"
      },
      "source": [
        "#Replacing null values with mean values\n",
        "train['customer_product_search_score'].fillna(train['customer_product_search_score'].mean(), inplace = True)\n",
        "train['customer_ctr_score'].fillna(train['customer_ctr_score'].mean(), inplace = True)\n",
        "train['customer_order_score'].fillna(train['customer_order_score'].mean(), inplace = True)"
      ],
      "execution_count": 785,
      "outputs": [
        {
          "output_type": "stream",
          "text": [
            "/usr/local/lib/python3.6/dist-packages/pandas/core/series.py:4535: SettingWithCopyWarning: \n",
            "A value is trying to be set on a copy of a slice from a DataFrame\n",
            "\n",
            "See the caveats in the documentation: https://pandas.pydata.org/pandas-docs/stable/user_guide/indexing.html#returning-a-view-versus-a-copy\n",
            "  downcast=downcast,\n"
          ],
          "name": "stderr"
        }
      ]
    },
    {
      "cell_type": "code",
      "metadata": {
        "colab": {
          "base_uri": "https://localhost:8080/",
          "height": 447
        },
        "id": "Mqd53a7PhViL",
        "outputId": "c23368dd-6f6b-4805-a614-bdb87ed12afe"
      },
      "source": [
        "sns.heatmap(train.isnull(), cmap='Blues',yticklabels=False,cbar='False')"
      ],
      "execution_count": 786,
      "outputs": [
        {
          "output_type": "execute_result",
          "data": {
            "text/plain": [
              "<matplotlib.axes._subplots.AxesSubplot at 0x7f59b88ebbe0>"
            ]
          },
          "metadata": {
            "tags": []
          },
          "execution_count": 786
        },
        {
          "output_type": "display_data",
          "data": {
            "image/png": "[encoded data removed]",
            "text/plain": [
              "<Figure size 432x288 with 2 Axes>"
            ]
          },
          "metadata": {
            "tags": [],
            "needs_background": "light"
          }
        }
      ]
    },
    {
      "cell_type": "code",
      "metadata": {
        "colab": {
          "base_uri": "https://localhost:8080/"
        },
        "id": "e6XR76rYhbH4",
        "outputId": "5cb6b4b8-274f-44f7-8e74-125c189a6873"
      },
      "source": [
        "train['customer_stay_score'].fillna(train['customer_stay_score'].mean(), inplace = True)"
      ],
      "execution_count": 787,
      "outputs": [
        {
          "output_type": "stream",
          "text": [
            "/usr/local/lib/python3.6/dist-packages/pandas/core/series.py:4535: SettingWithCopyWarning: \n",
            "A value is trying to be set on a copy of a slice from a DataFrame\n",
            "\n",
            "See the caveats in the documentation: https://pandas.pydata.org/pandas-docs/stable/user_guide/indexing.html#returning-a-view-versus-a-copy\n",
            "  downcast=downcast,\n"
          ],
          "name": "stderr"
        }
      ]
    },
    {
      "cell_type": "code",
      "metadata": {
        "colab": {
          "base_uri": "https://localhost:8080/",
          "height": 447
        },
        "id": "EmLon_U3hij6",
        "outputId": "eeeaf6fe-7994-40fc-8d41-7fde15d5ebef"
      },
      "source": [
        "sns.heatmap(train.isnull(), cmap='Blues',yticklabels=False,cbar='False')"
      ],
      "execution_count": 788,
      "outputs": [
        {
          "output_type": "execute_result",
          "data": {
            "text/plain": [
              "<matplotlib.axes._subplots.AxesSubplot at 0x7f59b94384e0>"
            ]
          },
          "metadata": {
            "tags": []
          },
          "execution_count": 788
        },
        {
          "output_type": "display_data",
          "data": {
            "image/png": "[encoded data removed]",
            "text/plain": [
              "<Figure size 432x288 with 2 Axes>"
            ]
          },
          "metadata": {
            "tags": [],
            "needs_background": "light"
          }
        }
      ]
    },
    {
      "cell_type": "code",
      "metadata": {
        "id": "mUI_10W3nbDF"
      },
      "source": [
        "#train=train.reindex(columns=['customer_visit_score','customer_product_search_score',\t'customer_ctr_score',\t'customer_stay_score',\t'customer_frequency_score',\t'customer_product_variation_score',\t'customer_order_score',\t'customer_affinity_score','X1',\t'customer_active_segment','customer_category'])"
      ],
      "execution_count": 789,
      "outputs": []
    },
    {
      "cell_type": "code",
      "metadata": {
        "colab": {
          "base_uri": "https://localhost:8080/"
        },
        "id": "dT5qAmh6oxR3",
        "outputId": "bbd20681-b47c-4cec-b17c-5f6d263f2e03"
      },
      "source": [
        "train.info()"
      ],
      "execution_count": 790,
      "outputs": [
        {
          "output_type": "stream",
          "text": [
            "<class 'pandas.core.frame.DataFrame'>\n",
            "Int64Index: 7874 entries, 0 to 10737\n",
            "Data columns (total 11 columns):\n",
            " #   Column                            Non-Null Count  Dtype  \n",
            "---  ------                            --------------  -----  \n",
            " 0   customer_visit_score              7874 non-null   float64\n",
            " 1   customer_product_search_score     7874 non-null   float64\n",
            " 2   customer_ctr_score                7874 non-null   float64\n",
            " 3   customer_stay_score               7874 non-null   float64\n",
            " 4   customer_frequency_score          7874 non-null   float64\n",
            " 5   customer_product_variation_score  7837 non-null   float64\n",
            " 6   customer_order_score              7874 non-null   float64\n",
            " 7   customer_affinity_score           7874 non-null   float64\n",
            " 8   customer_active_segment           7874 non-null   float64\n",
            " 9   X1                                7874 non-null   float64\n",
            " 10  customer_category                 7874 non-null   int64  \n",
            "dtypes: float64(10), int64(1)\n",
            "memory usage: 738.2 KB\n"
          ],
          "name": "stdout"
        }
      ]
    },
    {
      "cell_type": "code",
      "metadata": {
        "id": "vRLm77UF0ALG"
      },
      "source": [
        "#cols=['customer_visit_score','customer_product_search_score',\t'customer_ctr_score',\t'customer_stay_score',\t'customer_frequency_score',\t'customer_product_variation_score',\t'customer_order_score',\t'customer_affinity_score','X1',\t'customer_active_segment','customer_category']\n",
        "#for i in cols:\n",
        "  #train[i].round(3)"
      ],
      "execution_count": 791,
      "outputs": []
    },
    {
      "cell_type": "code",
      "metadata": {
        "colab": {
          "base_uri": "https://localhost:8080/",
          "height": 224
        },
        "id": "TuS8ZFWHiLLA",
        "outputId": "afaf862a-4acf-4c19-cb54-f78c0b4c1602"
      },
      "source": [
        "train.head()"
      ],
      "execution_count": 792,
      "outputs": [
        {
          "output_type": "execute_result",
          "data": {
            "text/html": [
              "<div>\n",
              "<style scoped>\n",
              "    .dataframe tbody tr th:only-of-type {\n",
              "        vertical-align: middle;\n",
              "    }\n",
              "\n",
              "    .dataframe tbody tr th {\n",
              "        vertical-align: top;\n",
              "    }\n",
              "\n",
              "    .dataframe thead th {\n",
              "        text-align: right;\n",
              "    }\n",
              "</style>\n",
              "<table border=\"1\" class=\"dataframe\">\n",
              "  <thead>\n",
              "    <tr style=\"text-align: right;\">\n",
              "      <th></th>\n",
              "      <th>customer_visit_score</th>\n",
              "      <th>customer_product_search_score</th>\n",
              "      <th>customer_ctr_score</th>\n",
              "      <th>customer_stay_score</th>\n",
              "      <th>customer_frequency_score</th>\n",
              "      <th>customer_product_variation_score</th>\n",
              "      <th>customer_order_score</th>\n",
              "      <th>customer_affinity_score</th>\n",
              "      <th>customer_active_segment</th>\n",
              "      <th>X1</th>\n",
              "      <th>customer_category</th>\n",
              "    </tr>\n",
              "  </thead>\n",
              "  <tbody>\n",
              "    <tr>\n",
              "      <th>0</th>\n",
              "      <td>13.168425</td>\n",
              "      <td>9.447662</td>\n",
              "      <td>-0.070203</td>\n",
              "      <td>-0.139541</td>\n",
              "      <td>0.436956</td>\n",
              "      <td>4.705761</td>\n",
              "      <td>2.537985</td>\n",
              "      <td>7.959503</td>\n",
              "      <td>0.126206</td>\n",
              "      <td>0.259321</td>\n",
              "      <td>0</td>\n",
              "    </tr>\n",
              "    <tr>\n",
              "      <th>1</th>\n",
              "      <td>17.092979</td>\n",
              "      <td>7.329056</td>\n",
              "      <td>0.153298</td>\n",
              "      <td>-0.102726</td>\n",
              "      <td>0.380340</td>\n",
              "      <td>4.205138</td>\n",
              "      <td>4.193444</td>\n",
              "      <td>17.517381</td>\n",
              "      <td>0.129179</td>\n",
              "      <td>0.015008</td>\n",
              "      <td>0</td>\n",
              "    </tr>\n",
              "    <tr>\n",
              "      <th>2</th>\n",
              "      <td>17.505334</td>\n",
              "      <td>5.143676</td>\n",
              "      <td>0.106709</td>\n",
              "      <td>0.262834</td>\n",
              "      <td>0.417648</td>\n",
              "      <td>4.479070</td>\n",
              "      <td>3.878971</td>\n",
              "      <td>12.595155</td>\n",
              "      <td>0.129179</td>\n",
              "      <td>0.150959</td>\n",
              "      <td>0</td>\n",
              "    </tr>\n",
              "    <tr>\n",
              "      <th>3</th>\n",
              "      <td>31.423381</td>\n",
              "      <td>4.917740</td>\n",
              "      <td>-0.020226</td>\n",
              "      <td>-0.100526</td>\n",
              "      <td>0.778130</td>\n",
              "      <td>5.055535</td>\n",
              "      <td>2.708940</td>\n",
              "      <td>4.795073</td>\n",
              "      <td>0.006173</td>\n",
              "      <td>0.255284</td>\n",
              "      <td>0</td>\n",
              "    </tr>\n",
              "    <tr>\n",
              "      <th>5</th>\n",
              "      <td>9.007922</td>\n",
              "      <td>7.051568</td>\n",
              "      <td>0.161564</td>\n",
              "      <td>0.040997</td>\n",
              "      <td>0.191935</td>\n",
              "      <td>4.209840</td>\n",
              "      <td>3.181961</td>\n",
              "      <td>18.862680</td>\n",
              "      <td>0.129179</td>\n",
              "      <td>0.150959</td>\n",
              "      <td>0</td>\n",
              "    </tr>\n",
              "  </tbody>\n",
              "</table>\n",
              "</div>"
            ],
            "text/plain": [
              "   customer_visit_score  ...  customer_category\n",
              "0             13.168425  ...                  0\n",
              "1             17.092979  ...                  0\n",
              "2             17.505334  ...                  0\n",
              "3             31.423381  ...                  0\n",
              "5              9.007922  ...                  0\n",
              "\n",
              "[5 rows x 11 columns]"
            ]
          },
          "metadata": {
            "tags": []
          },
          "execution_count": 792
        }
      ]
    },
    {
      "cell_type": "code",
      "metadata": {
        "colab": {
          "base_uri": "https://localhost:8080/"
        },
        "id": "eAGqCpw51RcO",
        "outputId": "fec15938-b3c5-41a3-8922-1fc2414b66db"
      },
      "source": [
        "train.info()"
      ],
      "execution_count": 793,
      "outputs": [
        {
          "output_type": "stream",
          "text": [
            "<class 'pandas.core.frame.DataFrame'>\n",
            "Int64Index: 7874 entries, 0 to 10737\n",
            "Data columns (total 11 columns):\n",
            " #   Column                            Non-Null Count  Dtype  \n",
            "---  ------                            --------------  -----  \n",
            " 0   customer_visit_score              7874 non-null   float64\n",
            " 1   customer_product_search_score     7874 non-null   float64\n",
            " 2   customer_ctr_score                7874 non-null   float64\n",
            " 3   customer_stay_score               7874 non-null   float64\n",
            " 4   customer_frequency_score          7874 non-null   float64\n",
            " 5   customer_product_variation_score  7837 non-null   float64\n",
            " 6   customer_order_score              7874 non-null   float64\n",
            " 7   customer_affinity_score           7874 non-null   float64\n",
            " 8   customer_active_segment           7874 non-null   float64\n",
            " 9   X1                                7874 non-null   float64\n",
            " 10  customer_category                 7874 non-null   int64  \n",
            "dtypes: float64(10), int64(1)\n",
            "memory usage: 738.2 KB\n"
          ],
          "name": "stdout"
        }
      ]
    },
    {
      "cell_type": "code",
      "metadata": {
        "colab": {
          "base_uri": "https://localhost:8080/"
        },
        "id": "lEsIZm7jZg6L",
        "outputId": "84457f95-caec-419f-b4f1-c29c715c899a"
      },
      "source": [
        "#This will help to encode out data in test file\n",
        "train['X1'].value_counts()"
      ],
      "execution_count": 794,
      "outputs": [
        {
          "output_type": "execute_result",
          "data": {
            "text/plain": [
              "0.147059    693\n",
              "0.144485    680\n",
              "0.143255    677\n",
              "0.143493    666\n",
              "0.150959    649\n",
              "0.015008    452\n",
              "0.012707    439\n",
              "0.013774    432\n",
              "0.014803    424\n",
              "0.014254    422\n",
              "0.259426    263\n",
              "0.262864    256\n",
              "0.255284    242\n",
              "0.253933    237\n",
              "0.259321    227\n",
              "0.011006    224\n",
              "0.013057    219\n",
              "0.012346    218\n",
              "0.015456    216\n",
              "0.016406    211\n",
              "0.120600     27\n",
              "Name: X1, dtype: int64"
            ]
          },
          "metadata": {
            "tags": []
          },
          "execution_count": 794
        }
      ]
    },
    {
      "cell_type": "code",
      "metadata": {
        "colab": {
          "base_uri": "https://localhost:8080/"
        },
        "id": "FtvjFYDLn6f0",
        "outputId": "27fbcfe2-4582-4da7-83d2-0da97efeb121"
      },
      "source": [
        "train['customer_active_segment'].value_counts()"
      ],
      "execution_count": 795,
      "outputs": [
        {
          "output_type": "execute_result",
          "data": {
            "text/plain": [
              "0.123717    752\n",
              "0.129451    747\n",
              "0.129179    718\n",
              "0.065662    717\n",
              "0.126206    715\n",
              "0.062994    713\n",
              "0.125694    709\n",
              "0.063595    698\n",
              "0.065463    674\n",
              "0.062849    660\n",
              "0.006173    129\n",
              "0.000000     74\n",
              "0.006135     73\n",
              "0.006079     69\n",
              "0.003030     67\n",
              "0.006061     64\n",
              "0.002959     58\n",
              "0.005650     53\n",
              "0.005865     53\n",
              "0.717703     29\n",
              "0.710706     23\n",
              "0.714286     22\n",
              "0.721461     21\n",
              "0.689573     19\n",
              "0.120600     17\n",
              "Name: customer_active_segment, dtype: int64"
            ]
          },
          "metadata": {
            "tags": []
          },
          "execution_count": 795
        }
      ]
    },
    {
      "cell_type": "code",
      "metadata": {
        "colab": {
          "base_uri": "https://localhost:8080/"
        },
        "id": "9JcZtAGnurPw",
        "outputId": "12d6eba1-de7b-4e98-c531-1b46405db5e4"
      },
      "source": [
        "train =train[~train.isin([np.nan, np.inf, -np.inf]).any(1)]\n",
        "X = train.iloc[:, :-1].values\n",
        "y = train.iloc[:, -1].values\n",
        "y.shape\n"
      ],
      "execution_count": 796,
      "outputs": [
        {
          "output_type": "execute_result",
          "data": {
            "text/plain": [
              "(7837,)"
            ]
          },
          "metadata": {
            "tags": []
          },
          "execution_count": 796
        }
      ]
    },
    {
      "cell_type": "code",
      "metadata": {
        "colab": {
          "base_uri": "https://localhost:8080/"
        },
        "id": "mnOWjyCk8kiT",
        "outputId": "df473942-6a1c-489c-b85c-af66eee9daf3"
      },
      "source": [
        "X.shape"
      ],
      "execution_count": 797,
      "outputs": [
        {
          "output_type": "execute_result",
          "data": {
            "text/plain": [
              "(7837, 10)"
            ]
          },
          "metadata": {
            "tags": []
          },
          "execution_count": 797
        }
      ]
    },
    {
      "cell_type": "code",
      "metadata": {
        "id": "rLJSg3UMhkYt"
      },
      "source": [
        "#performing Feature Scaling\n",
        "from sklearn.preprocessing import StandardScaler\n",
        "sc=StandardScaler()\n",
        "X=sc.fit_transform(X)"
      ],
      "execution_count": 798,
      "outputs": []
    },
    {
      "cell_type": "code",
      "metadata": {
        "id": "p8O6eJlovOwZ"
      },
      "source": [
        "from sklearn.model_selection import train_test_split\n",
        "X_train, X_test, y_train, y_test = train_test_split(X, y, test_size = 0.25, random_state = 0)"
      ],
      "execution_count": 799,
      "outputs": []
    },
    {
      "cell_type": "code",
      "metadata": {
        "colab": {
          "base_uri": "https://localhost:8080/"
        },
        "id": "11daXhrV0J9g",
        "outputId": "d545da92-bdc3-4257-c648-500dd95bc368"
      },
      "source": [
        "#from sklearn.linear_model import LogisticRegression\n",
        "#from sklearn import svm\n",
        "#from sklearn.naive_bayes import GaussianNB\n",
        "#modelsvm=svm.SVC(probability=True)\n",
        "#modellr = LogisticRegression(random_state = 0,max_iter=1000000)\n",
        "#modellr.fit(X_train, y_train)\n",
        "#modelsvm.fit(X_train, y_train)\n",
        "#modelnb=GaussianNB()\n",
        "#modelnb.fit(X_train, y_train)"
      ],
      "execution_count": 800,
      "outputs": [
        {
          "output_type": "execute_result",
          "data": {
            "text/plain": [
              "GaussianNB(priors=None, var_smoothing=1e-09)"
            ]
          },
          "metadata": {
            "tags": []
          },
          "execution_count": 800
        }
      ]
    },
    {
      "cell_type": "code",
      "metadata": {
        "colab": {
          "base_uri": "https://localhost:8080/"
        },
        "id": "4OY15VglbhxT",
        "outputId": "80db59e1-90bb-4835-808a-3de60b72fc27"
      },
      "source": [
        "#training the model using decision tree classifier\n",
        "modeldt=tree.DecisionTreeClassifier()\n",
        "modeldt.fit(X_train,y_train)"
      ],
      "execution_count": 801,
      "outputs": [
        {
          "output_type": "execute_result",
          "data": {
            "text/plain": [
              "DecisionTreeClassifier(ccp_alpha=0.0, class_weight=None, criterion='gini',\n",
              "                       max_depth=None, max_features=None, max_leaf_nodes=None,\n",
              "                       min_impurity_decrease=0.0, min_impurity_split=None,\n",
              "                       min_samples_leaf=1, min_samples_split=2,\n",
              "                       min_weight_fraction_leaf=0.0, presort='deprecated',\n",
              "                       random_state=None, splitter='best')"
            ]
          },
          "metadata": {
            "tags": []
          },
          "execution_count": 801
        }
      ]
    },
    {
      "cell_type": "code",
      "metadata": {
        "id": "TOIZjSgjX-Nj"
      },
      "source": [
        "from sklearn.model_selection import GridSearchCV\n",
        "param_dict={\"criterion\":['gini','entropy'],\"max_depth\":range(1,10),\"min_samples_split\":range(1,10),\"min_samples_leaf\":range(1,5)}"
      ],
      "execution_count": 802,
      "outputs": []
    },
    {
      "cell_type": "code",
      "metadata": {
        "id": "5itxVWgXYX1k",
        "colab": {
          "base_uri": "https://localhost:8080/"
        },
        "outputId": "e03289dc-6fb4-4925-a5ec-b62a7807a3ea"
      },
      "source": [
        "#Tuning hyperparameter using GridSearch Cv technique\n",
        "grid=GridSearchCV(modeldt,param_grid=param_dict,cv=10,verbose=1,n_jobs=-1)\n",
        "grid.fit(X_train,y_train)"
      ],
      "execution_count": 803,
      "outputs": [
        {
          "output_type": "stream",
          "text": [
            "Fitting 10 folds for each of 648 candidates, totalling 6480 fits\n"
          ],
          "name": "stdout"
        },
        {
          "output_type": "stream",
          "text": [
            "[Parallel(n_jobs=-1)]: Using backend LokyBackend with 2 concurrent workers.\n",
            "[Parallel(n_jobs=-1)]: Done 390 tasks      | elapsed:    3.3s\n",
            "[Parallel(n_jobs=-1)]: Done 2790 tasks      | elapsed:   48.9s\n",
            "[Parallel(n_jobs=-1)]: Done 5806 tasks      | elapsed:  2.0min\n",
            "[Parallel(n_jobs=-1)]: Done 6480 out of 6480 | elapsed:  2.4min finished\n"
          ],
          "name": "stderr"
        },
        {
          "output_type": "execute_result",
          "data": {
            "text/plain": [
              "GridSearchCV(cv=10, error_score=nan,\n",
              "             estimator=DecisionTreeClassifier(ccp_alpha=0.0, class_weight=None,\n",
              "                                              criterion='gini', max_depth=None,\n",
              "                                              max_features=None,\n",
              "                                              max_leaf_nodes=None,\n",
              "                                              min_impurity_decrease=0.0,\n",
              "                                              min_impurity_split=None,\n",
              "                                              min_samples_leaf=1,\n",
              "                                              min_samples_split=2,\n",
              "                                              min_weight_fraction_leaf=0.0,\n",
              "                                              presort='deprecated',\n",
              "                                              random_state=None,\n",
              "                                              splitter='best'),\n",
              "             iid='deprecated', n_jobs=-1,\n",
              "             param_grid={'criterion': ['gini', 'entropy'],\n",
              "                         'max_depth': range(1, 10),\n",
              "                         'min_samples_leaf': range(1, 5),\n",
              "                         'min_samples_split': range(1, 10)},\n",
              "             pre_dispatch='2*n_jobs', refit=True, return_train_score=False,\n",
              "             scoring=None, verbose=1)"
            ]
          },
          "metadata": {
            "tags": []
          },
          "execution_count": 803
        }
      ]
    },
    {
      "cell_type": "code",
      "metadata": {
        "colab": {
          "base_uri": "https://localhost:8080/"
        },
        "id": "e1gSY4hIbIfx",
        "outputId": "89ef0da5-43bd-4efe-d718-9b3e70401507"
      },
      "source": [
        "grid.best_params_"
      ],
      "execution_count": 804,
      "outputs": [
        {
          "output_type": "execute_result",
          "data": {
            "text/plain": [
              "{'criterion': 'gini',\n",
              " 'max_depth': 3,\n",
              " 'min_samples_leaf': 1,\n",
              " 'min_samples_split': 3}"
            ]
          },
          "metadata": {
            "tags": []
          },
          "execution_count": 804
        }
      ]
    },
    {
      "cell_type": "code",
      "metadata": {
        "id": "EJSbvzX7YP0t",
        "colab": {
          "base_uri": "https://localhost:8080/"
        },
        "outputId": "ab932b0d-98fc-4952-add3-2c673cc2d4e6"
      },
      "source": [
        "modeldt=tree.DecisionTreeClassifier(max_depth=3,min_samples_leaf=1,min_samples_split=5,criterion='entropy')\n",
        "modeldt.fit(X_train,y_train)"
      ],
      "execution_count": 805,
      "outputs": [
        {
          "output_type": "execute_result",
          "data": {
            "text/plain": [
              "DecisionTreeClassifier(ccp_alpha=0.0, class_weight=None, criterion='entropy',\n",
              "                       max_depth=3, max_features=None, max_leaf_nodes=None,\n",
              "                       min_impurity_decrease=0.0, min_impurity_split=None,\n",
              "                       min_samples_leaf=1, min_samples_split=5,\n",
              "                       min_weight_fraction_leaf=0.0, presort='deprecated',\n",
              "                       random_state=None, splitter='best')"
            ]
          },
          "metadata": {
            "tags": []
          },
          "execution_count": 805
        }
      ]
    },
    {
      "cell_type": "code",
      "metadata": {
        "id": "1GXzW1ZlUMhf"
      },
      "source": [
        "y_pred=modeldt.predict(X_test)"
      ],
      "execution_count": 806,
      "outputs": []
    },
    {
      "cell_type": "code",
      "metadata": {
        "id": "RDZuHS6kV3qU"
      },
      "source": [
        "#y=np.array(y_test)"
      ],
      "execution_count": 807,
      "outputs": []
    },
    {
      "cell_type": "code",
      "metadata": {
        "colab": {
          "base_uri": "https://localhost:8080/"
        },
        "id": "ZvavZegW5Kes",
        "outputId": "527b9ef1-1d7a-47a8-c36c-d5465214d210"
      },
      "source": [
        "\n",
        "precision_metric = sklearn.metrics.precision_score(y_test, y_pred, average = \"macro\")\n",
        "print(precision_metric)\n"
      ],
      "execution_count": 808,
      "outputs": [
        {
          "output_type": "stream",
          "text": [
            "0.9918242207460399\n"
          ],
          "name": "stdout"
        }
      ]
    },
    {
      "cell_type": "code",
      "metadata": {
        "id": "QAE_eKsQ-5HZ"
      },
      "source": [
        "test=pd.read_csv('test.csv')"
      ],
      "execution_count": 843,
      "outputs": []
    },
    {
      "cell_type": "code",
      "metadata": {
        "id": "I-qJN-mAkcS1"
      },
      "source": [
        "#preparing test data\n",
        "import random\n",
        "def label(element):\n",
        "  if element=='BA':\n",
        "    return 0.150959  \n",
        "  elif element=='A':\n",
        "      return 0.014109\n",
        "  elif element=='F':\n",
        "    return .258165\n",
        "  elif element=='AA':\n",
        "    return 0.0136542\n",
        "  elif element=='E':\n",
        "    return 0.120600\n",
        "test['X1']=test['X1'].map(label)"
      ],
      "execution_count": 844,
      "outputs": []
    },
    {
      "cell_type": "code",
      "metadata": {
        "id": "xkWMgn_ks2hz"
      },
      "source": [
        "import random\n",
        "def label(element):\n",
        "  if element=='C':\n",
        "    return 0.127449\n",
        "  elif element=='B':\n",
        "      return 0.079518\n",
        "  elif element=='D':\n",
        "    return 0.005244\n",
        "  elif element=='AA':\n",
        "    return 0.005244\n",
        "  elif element=='A':\n",
        "    return 0.612388\n",
        "test['customer_active_segment']=test['customer_active_segment'].map(label)"
      ],
      "execution_count": 845,
      "outputs": []
    },
    {
      "cell_type": "code",
      "metadata": {
        "colab": {
          "base_uri": "https://localhost:8080/"
        },
        "id": "aQz9tm4mt8rV",
        "outputId": "2cf98b01-ff1b-4add-b740-b630da9e1c22"
      },
      "source": [
        "test.info()"
      ],
      "execution_count": 846,
      "outputs": [
        {
          "output_type": "stream",
          "text": [
            "<class 'pandas.core.frame.DataFrame'>\n",
            "RangeIndex: 7160 entries, 0 to 7159\n",
            "Data columns (total 11 columns):\n",
            " #   Column                            Non-Null Count  Dtype  \n",
            "---  ------                            --------------  -----  \n",
            " 0   customer_id                       7160 non-null   object \n",
            " 1   customer_visit_score              7160 non-null   float64\n",
            " 2   customer_product_search_score     7131 non-null   float64\n",
            " 3   customer_ctr_score                7160 non-null   float64\n",
            " 4   customer_stay_score               7144 non-null   float64\n",
            " 5   customer_frequency_score          7160 non-null   float64\n",
            " 6   customer_product_variation_score  7117 non-null   float64\n",
            " 7   customer_order_score              7119 non-null   float64\n",
            " 8   customer_affinity_score           7160 non-null   float64\n",
            " 9   customer_active_segment           7148 non-null   float64\n",
            " 10  X1                                7135 non-null   float64\n",
            "dtypes: float64(10), object(1)\n",
            "memory usage: 615.4+ KB\n"
          ],
          "name": "stdout"
        }
      ]
    },
    {
      "cell_type": "code",
      "metadata": {
        "id": "ZmUYOqUburwh"
      },
      "source": [
        "test['customer_stay_score'].fillna(test['customer_stay_score'].mean(), inplace = True)\n",
        "test['customer_product_search_score'].fillna(test['customer_product_search_score'].mean(), inplace = True)\n",
        "test['customer_stay_score'].fillna(test['customer_stay_score'].mean(), inplace = True)\n",
        "test['customer_product_variation_score'].fillna(test['customer_product_variation_score'].mean(), inplace = True)\n",
        "test['customer_order_score'].fillna(test['customer_order_score'].mean(), inplace = True)\n",
        "test['customer_active_segment'].fillna(test['customer_active_segment'].mean(), inplace = True)\n",
        "test['X1'].fillna(test['X1'].mean(), inplace = True)"
      ],
      "execution_count": 847,
      "outputs": []
    },
    {
      "cell_type": "code",
      "metadata": {
        "colab": {
          "base_uri": "https://localhost:8080/"
        },
        "id": "I2TklbAD2QG7",
        "outputId": "9f6b22d0-9ce7-4a82-90eb-74de77480940"
      },
      "source": [
        "test['customer_active_segment'].value_counts()"
      ],
      "execution_count": 848,
      "outputs": [
        {
          "output_type": "execute_result",
          "data": {
            "text/plain": [
              "0.127449    3251\n",
              "0.079518    3127\n",
              "0.005244     521\n",
              "0.612388     249\n",
              "0.114466      12\n",
              "Name: customer_active_segment, dtype: int64"
            ]
          },
          "metadata": {
            "tags": []
          },
          "execution_count": 848
        }
      ]
    },
    {
      "cell_type": "code",
      "metadata": {
        "colab": {
          "base_uri": "https://localhost:8080/"
        },
        "id": "6OXHQLEQv4fu",
        "outputId": "f427c971-5c8b-4f9c-c1c0-25b678a1b0bd"
      },
      "source": [
        "test.info()"
      ],
      "execution_count": 849,
      "outputs": [
        {
          "output_type": "stream",
          "text": [
            "<class 'pandas.core.frame.DataFrame'>\n",
            "RangeIndex: 7160 entries, 0 to 7159\n",
            "Data columns (total 11 columns):\n",
            " #   Column                            Non-Null Count  Dtype  \n",
            "---  ------                            --------------  -----  \n",
            " 0   customer_id                       7160 non-null   object \n",
            " 1   customer_visit_score              7160 non-null   float64\n",
            " 2   customer_product_search_score     7160 non-null   float64\n",
            " 3   customer_ctr_score                7160 non-null   float64\n",
            " 4   customer_stay_score               7160 non-null   float64\n",
            " 5   customer_frequency_score          7160 non-null   float64\n",
            " 6   customer_product_variation_score  7160 non-null   float64\n",
            " 7   customer_order_score              7160 non-null   float64\n",
            " 8   customer_affinity_score           7160 non-null   float64\n",
            " 9   customer_active_segment           7160 non-null   float64\n",
            " 10  X1                                7160 non-null   float64\n",
            "dtypes: float64(10), object(1)\n",
            "memory usage: 615.4+ KB\n"
          ],
          "name": "stdout"
        }
      ]
    },
    {
      "cell_type": "code",
      "metadata": {
        "colab": {
          "base_uri": "https://localhost:8080/"
        },
        "id": "mR5KhQUL6Vf0",
        "outputId": "498e3440-4605-4dfd-878e-be51478426cd"
      },
      "source": [
        "x=test.iloc[:,0]\n",
        "x"
      ],
      "execution_count": 850,
      "outputs": [
        {
          "output_type": "execute_result",
          "data": {
            "text/plain": [
              "0       csid_10739\n",
              "1       csid_10740\n",
              "2       csid_10741\n",
              "3       csid_10742\n",
              "4       csid_10743\n",
              "           ...    \n",
              "7155    csid_17894\n",
              "7156    csid_17895\n",
              "7157    csid_17896\n",
              "7158    csid_17897\n",
              "7159    csid_17898\n",
              "Name: customer_id, Length: 7160, dtype: object"
            ]
          },
          "metadata": {
            "tags": []
          },
          "execution_count": 850
        }
      ]
    },
    {
      "cell_type": "code",
      "metadata": {
        "id": "uAfCHsVt1nGy"
      },
      "source": [
        "test.drop(['customer_id'],axis=1,inplace=True)"
      ],
      "execution_count": 851,
      "outputs": []
    },
    {
      "cell_type": "code",
      "metadata": {
        "colab": {
          "base_uri": "https://localhost:8080/",
          "height": 419
        },
        "id": "8j2x_dml1YyL",
        "outputId": "aaff1ea1-280a-4dd6-ae21-4d3419a80fd6"
      },
      "source": [
        "y_test_pred=modeldt.predict(test)\n",
        "y_test=pd.DataFrame([y_test_pred]).T\n",
        "y_test"
      ],
      "execution_count": 853,
      "outputs": [
        {
          "output_type": "execute_result",
          "data": {
            "text/html": [
              "<div>\n",
              "<style scoped>\n",
              "    .dataframe tbody tr th:only-of-type {\n",
              "        vertical-align: middle;\n",
              "    }\n",
              "\n",
              "    .dataframe tbody tr th {\n",
              "        vertical-align: top;\n",
              "    }\n",
              "\n",
              "    .dataframe thead th {\n",
              "        text-align: right;\n",
              "    }\n",
              "</style>\n",
              "<table border=\"1\" class=\"dataframe\">\n",
              "  <thead>\n",
              "    <tr style=\"text-align: right;\">\n",
              "      <th></th>\n",
              "      <th>0</th>\n",
              "    </tr>\n",
              "  </thead>\n",
              "  <tbody>\n",
              "    <tr>\n",
              "      <th>0</th>\n",
              "      <td>0</td>\n",
              "    </tr>\n",
              "    <tr>\n",
              "      <th>1</th>\n",
              "      <td>0</td>\n",
              "    </tr>\n",
              "    <tr>\n",
              "      <th>2</th>\n",
              "      <td>0</td>\n",
              "    </tr>\n",
              "    <tr>\n",
              "      <th>3</th>\n",
              "      <td>0</td>\n",
              "    </tr>\n",
              "    <tr>\n",
              "      <th>4</th>\n",
              "      <td>0</td>\n",
              "    </tr>\n",
              "    <tr>\n",
              "      <th>...</th>\n",
              "      <td>...</td>\n",
              "    </tr>\n",
              "    <tr>\n",
              "      <th>7155</th>\n",
              "      <td>0</td>\n",
              "    </tr>\n",
              "    <tr>\n",
              "      <th>7156</th>\n",
              "      <td>0</td>\n",
              "    </tr>\n",
              "    <tr>\n",
              "      <th>7157</th>\n",
              "      <td>0</td>\n",
              "    </tr>\n",
              "    <tr>\n",
              "      <th>7158</th>\n",
              "      <td>0</td>\n",
              "    </tr>\n",
              "    <tr>\n",
              "      <th>7159</th>\n",
              "      <td>0</td>\n",
              "    </tr>\n",
              "  </tbody>\n",
              "</table>\n",
              "<p>7160 rows × 1 columns</p>\n",
              "</div>"
            ],
            "text/plain": [
              "      0\n",
              "0     0\n",
              "1     0\n",
              "2     0\n",
              "3     0\n",
              "4     0\n",
              "...  ..\n",
              "7155  0\n",
              "7156  0\n",
              "7157  0\n",
              "7158  0\n",
              "7159  0\n",
              "\n",
              "[7160 rows x 1 columns]"
            ]
          },
          "metadata": {
            "tags": []
          },
          "execution_count": 853
        }
      ]
    },
    {
      "cell_type": "code",
      "metadata": {
        "colab": {
          "base_uri": "https://localhost:8080/"
        },
        "id": "5iuvcZ6l41Qt",
        "outputId": "398733c2-25da-4b5c-af7c-eb4b987f941d"
      },
      "source": [
        "x\n"
      ],
      "execution_count": 854,
      "outputs": [
        {
          "output_type": "execute_result",
          "data": {
            "text/plain": [
              "0       csid_10739\n",
              "1       csid_10740\n",
              "2       csid_10741\n",
              "3       csid_10742\n",
              "4       csid_10743\n",
              "           ...    \n",
              "7155    csid_17894\n",
              "7156    csid_17895\n",
              "7157    csid_17896\n",
              "7158    csid_17897\n",
              "7159    csid_17898\n",
              "Name: customer_id, Length: 7160, dtype: object"
            ]
          },
          "metadata": {
            "tags": []
          },
          "execution_count": 854
        }
      ]
    },
    {
      "cell_type": "code",
      "metadata": {
        "id": "wI0JzqRr3-j9"
      },
      "source": [
        "my_submission=pd.DataFrame([x,y_test_pred])"
      ],
      "execution_count": 855,
      "outputs": []
    },
    {
      "cell_type": "code",
      "metadata": {
        "id": "zyqTT4wS4IOi"
      },
      "source": [
        "my_submission=my_submission.T\n",
        "my_submission.columns=['customer_id','customer_category']\n",
        "my_submission.to_csv('submission.csv',index=False)"
      ],
      "execution_count": 856,
      "outputs": []
    },
    {
      "cell_type": "code",
      "metadata": {
        "colab": {
          "base_uri": "https://localhost:8080/"
        },
        "id": "d2a-_b_HCTZ9",
        "outputId": "19572b6a-b998-4a3e-97be-c2ef355c1949"
      },
      "source": [
        "my_submission['customer_category'].value_counts()"
      ],
      "execution_count": 857,
      "outputs": [
        {
          "output_type": "execute_result",
          "data": {
            "text/plain": [
              "0    7159\n",
              "1       1\n",
              "Name: customer_category, dtype: int64"
            ]
          },
          "metadata": {
            "tags": []
          },
          "execution_count": 857
        }
      ]
    }
  ]
}