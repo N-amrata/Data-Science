{
 "cells": [
  {
   "cell_type": "code",
   "execution_count": 68,
   "metadata": {},
   "outputs": [],
   "source": [
    "import numpy as np\n",
    "import pandas as pd\n",
    "import matplotlib.pyplot as plt\n",
    "import seaborn as sns\n",
    "from sklearn.ensemble import RandomForestRegressor\n",
    "from sklearn.model_selection import cross_val_score\n",
    "\n",
    "\n",
    "%matplotlib inline\n",
    "import warnings"
   ]
  },
  {
   "cell_type": "code",
   "execution_count": 69,
   "metadata": {},
   "outputs": [],
   "source": [
    "seattle_listing = pd.read_csv('C:/Users/HP/Documents/DataScienceBlogPost/listings.csv')\n",
    "prepare_df=seattle_listing.copy(deep=True)"
   ]
  },
  {
   "cell_type": "code",
   "execution_count": 70,
   "metadata": {},
   "outputs": [
    {
     "name": "stdout",
     "output_type": "stream",
     "text": [
      "summary has 177 null values (4.64%)\n",
      "space has 569 null values (14.9%)\n",
      "neighborhood_overview has 1032 null values (27.03%)\n",
      "notes has 1606 null values (42.06%)\n",
      "transit has 934 null values (24.46%)\n",
      "thumbnail_url has 320 null values (8.38%)\n",
      "medium_url has 320 null values (8.38%)\n",
      "xl_picture_url has 320 null values (8.38%)\n",
      "host_name has 2 null values (0.05%)\n",
      "host_since has 2 null values (0.05%)\n",
      "host_location has 8 null values (0.21%)\n",
      "host_about has 859 null values (22.5%)\n",
      "host_response_time has 523 null values (13.7%)\n",
      "host_response_rate has 523 null values (13.7%)\n",
      "host_acceptance_rate has 773 null values (20.25%)\n",
      "host_is_superhost has 2 null values (0.05%)\n",
      "host_thumbnail_url has 2 null values (0.05%)\n",
      "host_picture_url has 2 null values (0.05%)\n",
      "host_neighbourhood has 300 null values (7.86%)\n",
      "host_listings_count has 2 null values (0.05%)\n",
      "host_total_listings_count has 2 null values (0.05%)\n",
      "host_has_profile_pic has 2 null values (0.05%)\n",
      "host_identity_verified has 2 null values (0.05%)\n",
      "neighbourhood has 416 null values (10.9%)\n",
      "zipcode has 7 null values (0.18%)\n",
      "property_type has 1 null values (0.03%)\n",
      "bathrooms has 16 null values (0.42%)\n",
      "bedrooms has 6 null values (0.16%)\n",
      "beds has 1 null values (0.03%)\n",
      "square_feet has 3721 null values (97.46%)\n",
      "weekly_price has 1809 null values (47.38%)\n",
      "monthly_price has 2301 null values (60.27%)\n",
      "security_deposit has 1952 null values (51.13%)\n",
      "cleaning_fee has 1030 null values (26.98%)\n",
      "first_review has 627 null values (16.42%)\n",
      "last_review has 627 null values (16.42%)\n",
      "review_scores_rating has 647 null values (16.95%)\n",
      "review_scores_accuracy has 658 null values (17.23%)\n",
      "review_scores_cleanliness has 653 null values (17.1%)\n",
      "review_scores_checkin has 658 null values (17.23%)\n",
      "review_scores_communication has 651 null values (17.05%)\n",
      "review_scores_location has 655 null values (17.16%)\n",
      "review_scores_value has 656 null values (17.18%)\n",
      "license has 3818 null values (100.0%)\n",
      "reviews_per_month has 627 null values (16.42%)\n"
     ]
    }
   ],
   "source": [
    "df_length = prepare_df.shape[0]\n",
    "\n",
    "for col in prepare_df.columns:\n",
    "    null_count = prepare_df[col].isnull().sum()\n",
    "    if null_count == 0:\n",
    "        continue\n",
    "        \n",
    "    null_ratio = np.round(null_count/df_length * 100, 2)\n",
    "    print(\"{} has {} null values ({}%)\".format(col, null_count, null_ratio))"
   ]
  },
  {
   "cell_type": "code",
   "execution_count": null,
   "metadata": {},
   "outputs": [],
   "source": [
    "#As you can see, it seems that there are columns 90% or more of the values are null, \n",
    "#but most of the columns have between 0-30% of null_ratio. Therefore, \n",
    "#here, I decided to excluded from analysis the columns with 30% or more null ratio.\n",
    "\n",
    "#Also, it seems that there are only two null values in host_since used to calculate the target variable. \n",
    "#This needs to be removed."
   ]
  },
  {
   "cell_type": "code",
   "execution_count": 71,
   "metadata": {},
   "outputs": [
    {
     "name": "stdout",
     "output_type": "stream",
     "text": [
      "summary has 177 null values (4.64%)\n",
      "space has 568 null values (14.88%)\n",
      "neighborhood_overview has 1031 null values (27.0%)\n",
      "transit has 933 null values (24.44%)\n",
      "thumbnail_url has 320 null values (8.38%)\n",
      "medium_url has 320 null values (8.38%)\n",
      "xl_picture_url has 320 null values (8.38%)\n",
      "host_location has 6 null values (0.16%)\n",
      "host_about has 857 null values (22.45%)\n",
      "host_response_time has 521 null values (13.65%)\n",
      "host_response_rate has 521 null values (13.65%)\n",
      "host_acceptance_rate has 771 null values (20.19%)\n",
      "host_neighbourhood has 298 null values (7.81%)\n",
      "neighbourhood has 416 null values (10.9%)\n",
      "zipcode has 7 null values (0.18%)\n",
      "property_type has 1 null values (0.03%)\n",
      "bathrooms has 16 null values (0.42%)\n",
      "bedrooms has 6 null values (0.16%)\n",
      "beds has 1 null values (0.03%)\n",
      "cleaning_fee has 1029 null values (26.95%)\n",
      "first_review has 625 null values (16.37%)\n",
      "last_review has 625 null values (16.37%)\n",
      "review_scores_rating has 645 null values (16.89%)\n",
      "review_scores_accuracy has 656 null values (17.18%)\n",
      "review_scores_cleanliness has 651 null values (17.05%)\n",
      "review_scores_checkin has 656 null values (17.18%)\n",
      "review_scores_communication has 649 null values (17.0%)\n",
      "review_scores_location has 653 null values (17.1%)\n",
      "review_scores_value has 654 null values (17.13%)\n",
      "reviews_per_month has 625 null values (16.37%)\n"
     ]
    }
   ],
   "source": [
    "# detect need drop columns\n",
    "drop_cols = [col for col in prepare_df.columns if prepare_df[col].isnull().sum()/df_length >= 0.3]\n",
    "\n",
    "# drop null\n",
    "prepare_df.drop(drop_cols, axis=1, inplace=True)\n",
    "prepare_df.dropna(subset=['host_since'], inplace=True)\n",
    "\n",
    "# check after\n",
    "for col in prepare_df.columns:\n",
    "    null_count = prepare_df[col].isnull().sum()\n",
    "    if null_count == 0:\n",
    "        continue\n",
    "        \n",
    "    null_ratio = np.round(null_count/df_length * 100, 2)\n",
    "    print(\"{} has {} null values ({}%)\".format(col, null_count, null_ratio))"
   ]
  },
  {
   "cell_type": "code",
   "execution_count": 72,
   "metadata": {},
   "outputs": [],
   "source": [
    "drop_cols = ['listing_url', 'scrape_id', 'last_scraped', 'name', 'summary', 'space', 'description', 'neighborhood_overview',\n",
    "                'transit', 'medium_url', 'picture_url', 'xl_picture_url', 'host_id', 'host_url', 'host_name', 'host_about', 'host_thumbnail_url',\n",
    "                'host_picture_url', 'street', 'city', 'state', 'zipcode', 'market', 'smart_location', 'country_code', 'country', 'latitude', 'longitude',\n",
    "                'calendar_updated', 'calendar_last_scraped', 'first_review', 'last_review', 'amenities', 'host_verifications']\n",
    "\n",
    "prepare_df.drop(drop_cols, axis=1, inplace=True)"
   ]
  },
  {
   "cell_type": "code",
   "execution_count": null,
   "metadata": {},
   "outputs": [],
   "source": [
    "#Furthermore, delete columns that have only a single value, because the feature value does not make sense."
   ]
  },
  {
   "cell_type": "code",
   "execution_count": 73,
   "metadata": {},
   "outputs": [
    {
     "data": {
      "text/plain": [
       "Index(['id', 'thumbnail_url', 'host_since', 'host_location',\n",
       "       'host_response_time', 'host_response_rate', 'host_acceptance_rate',\n",
       "       'host_is_superhost', 'host_neighbourhood', 'host_listings_count',\n",
       "       'host_total_listings_count', 'host_has_profile_pic',\n",
       "       'host_identity_verified', 'neighbourhood', 'neighbourhood_cleansed',\n",
       "       'neighbourhood_group_cleansed', 'is_location_exact', 'property_type',\n",
       "       'room_type', 'accommodates', 'bathrooms', 'bedrooms', 'beds',\n",
       "       'bed_type', 'price', 'cleaning_fee', 'guests_included', 'extra_people',\n",
       "       'minimum_nights', 'maximum_nights', 'availability_30',\n",
       "       'availability_60', 'availability_90', 'availability_365',\n",
       "       'number_of_reviews', 'review_scores_rating', 'review_scores_accuracy',\n",
       "       'review_scores_cleanliness', 'review_scores_checkin',\n",
       "       'review_scores_communication', 'review_scores_location',\n",
       "       'review_scores_value', 'instant_bookable', 'cancellation_policy',\n",
       "       'require_guest_profile_picture', 'require_guest_phone_verification',\n",
       "       'calculated_host_listings_count', 'reviews_per_month'],\n",
       "      dtype='object')"
      ]
     },
     "execution_count": 73,
     "metadata": {},
     "output_type": "execute_result"
    }
   ],
   "source": [
    "drop_cols = []\n",
    "for col in prepare_df.columns:\n",
    "    if prepare_df[col].nunique() == 1:\n",
    "        drop_cols.append(col)\n",
    "        \n",
    "prepare_df.drop(drop_cols, axis=1, inplace=True)\n",
    "prepare_df.columns"
   ]
  },
  {
   "cell_type": "code",
   "execution_count": null,
   "metadata": {},
   "outputs": [],
   "source": [
    "#Good. Now I almost finished remove columns that is not used for anallysis. So next, I create target valuable."
   ]
  },
  {
   "cell_type": "code",
   "execution_count": 74,
   "metadata": {},
   "outputs": [],
   "source": [
    "# available days count each listings\n",
    "listing_avalilable = seattle_calendar.groupby('listing_id')['price'].count().reset_index()\n",
    "listing_avalilable.columns = [\"id\", \"available_count\"]\n",
    "\n",
    "# merge\n",
    "prepare_df = prepare_df.merge(listing_avalilable, how='left', on='id')\n",
    "\n",
    "# create target column\n",
    "prepare_df['host_since_year'] = pd.to_datetime(prepare_df['host_since']).dt.year\n",
    "prepare_df[\"easily_accomodated\"] = prepare_df.accommodates / (prepare_df.available_count+1) / (2017 - prepare_df.host_since_year)"
   ]
  },
  {
   "cell_type": "code",
   "execution_count": null,
   "metadata": {},
   "outputs": [],
   "source": [
    "#Next, delete the column that seems to be directly related to the objective variable (ex. num_review)"
   ]
  },
  {
   "cell_type": "code",
   "execution_count": 75,
   "metadata": {},
   "outputs": [
    {
     "name": "stdout",
     "output_type": "stream",
     "text": [
      "Before: 51 columns\n",
      "After: 39 columns\n"
     ]
    }
   ],
   "source": [
    "print(\"Before: {} columns\".format(prepare_df.shape[1]))\n",
    "\n",
    "drop_cols = ['host_since', 'accommodates', 'availability_30', 'availability_60', 'availability_90', 'availability_365',\n",
    "                'number_of_reviews', 'review_scores_rating', 'available_count', 'reviews_per_month', 'host_since_year', 'review_scores_value']\n",
    "\n",
    "prepare_df.drop(drop_cols, axis=1, inplace=True)\n",
    "print(\"After: {} columns\".format(prepare_df.shape[1]))\n"
   ]
  },
  {
   "cell_type": "code",
   "execution_count": 76,
   "metadata": {},
   "outputs": [],
   "source": [
    "# convert true or false value to 1 or 0\n",
    "dummy_cols = ['host_is_superhost', 'require_guest_phone_verification', 'require_guest_profile_picture', 'instant_bookable', \n",
    "              'host_has_profile_pic', 'host_identity_verified', 'is_location_exact']\n",
    "\n",
    "for col in dummy_cols:\n",
    "    prepare_df[col] = prepare_df[col].map(lambda x: 1 if x == 't' else 0)\n",
    "\n",
    "# create dummy valuables\n",
    "dummy_cols = ['host_location', 'host_neighbourhood', 'neighbourhood', 'neighbourhood_cleansed', 'neighbourhood_group_cleansed',\n",
    "             'property_type', 'room_type', 'bed_type', 'cancellation_policy', 'host_response_time']\n",
    "\n",
    "prepare_df = pd.get_dummies(prepare_df, columns=dummy_cols, dummy_na=True)"
   ]
  },
  {
   "cell_type": "code",
   "execution_count": null,
   "metadata": {},
   "outputs": [],
   "source": [
    "#Next, handle any remaining null values.\n",
    "\n"
   ]
  },
  {
   "cell_type": "code",
   "execution_count": 77,
   "metadata": {},
   "outputs": [],
   "source": [
    "prepare_df[\"is_thumbnail_setted\"] = 1 - prepare_df.thumbnail_url.isnull()\n",
    "prepare_df.drop('thumbnail_url', axis=1, inplace=True)\n",
    "prepare_df.host_response_rate = prepare_df.host_response_rate.fillna('0%').map(lambda x: float(x[:-1]))\n",
    "prepare_df.host_acceptance_rate = prepare_df.host_acceptance_rate.fillna('0%').map(lambda x: float(x[:-1]))\n",
    "prepare_df.bathrooms.fillna(0, inplace=True)\n",
    "prepare_df.bedrooms.fillna(0, inplace=True)\n",
    "prepare_df.beds.fillna(0, inplace=True)\n",
    "prepare_df.cleaning_fee.fillna('$0', inplace=True)\n",
    "prepare_df.review_scores_accuracy.fillna(0, inplace=True)\n",
    "prepare_df.review_scores_cleanliness.fillna(0, inplace=True)\n",
    "prepare_df.review_scores_checkin.fillna(0, inplace=True)\n",
    "prepare_df.review_scores_communication.fillna(0, inplace=True)\n",
    "prepare_df.review_scores_location.fillna(0, inplace=True)\n"
   ]
  },
  {
   "cell_type": "code",
   "execution_count": 78,
   "metadata": {},
   "outputs": [
    {
     "name": "stdout",
     "output_type": "stream",
     "text": [
      "price\n",
      "cleaning_fee\n",
      "extra_people\n"
     ]
    }
   ],
   "source": [
    "for col in prepare_df.columns:\n",
    "    if prepare_df[col].dtypes == 'object':\n",
    "        \n",
    "        print(col)"
   ]
  },
  {
   "cell_type": "code",
   "execution_count": 79,
   "metadata": {},
   "outputs": [],
   "source": [
    "prepare_df.price = prepare_df.price.map(lambda x: float(x[1:].replace(',', '')))\n",
    "prepare_df.cleaning_fee = prepare_df.cleaning_fee.map(lambda x: float(x[1:].replace(',', '')))\n",
    "prepare_df.extra_people = prepare_df.extra_people.map(lambda x: float(x[1:].replace(',', '')))"
   ]
  },
  {
   "cell_type": "code",
   "execution_count": 80,
   "metadata": {},
   "outputs": [],
   "source": [
    "#MODELLING and Evaluation\n",
    "X = prepare_df.drop(['id', 'easily_accomodated'], axis=1)\n",
    "y = prepare_df.easily_accomodated.values\n",
    "\n",
    "rf = RandomForestRegressor(n_estimators=100, max_depth=5)\n",
    "scores = cross_val_score(rf, X, y, cv=5,error_score=np.nan)"
   ]
  },
  {
   "cell_type": "code",
   "execution_count": 82,
   "metadata": {},
   "outputs": [
    {
     "data": {
      "text/plain": [
       "array([-0.12200342,  0.06479594,  0.0789444 , -0.00307138,  0.13039553])"
      ]
     },
     "execution_count": 82,
     "metadata": {},
     "output_type": "execute_result"
    }
   ],
   "source": [
    "scores"
   ]
  },
  {
   "cell_type": "code",
   "execution_count": null,
   "metadata": {},
   "outputs": [],
   "source": [
    "#I can not predict at all. Why?\n",
    "#To consider why, let's make a scatter plot of predicted and actual values."
   ]
  },
  {
   "cell_type": "code",
   "execution_count": 86,
   "metadata": {},
   "outputs": [
    {
     "data": {
      "image/png": "[encoded data removed]",
      "text/plain": [
       "<Figure size 432x288 with 1 Axes>"
      ]
     },
     "metadata": {
      "needs_background": "light"
     },
     "output_type": "display_data"
    }
   ],
   "source": [
    "rf.fit(X, y)\n",
    "predictions = rf.predict(X)\n",
    "plt.plot((0, 4), (0, 4), color='gray')\n",
    "plt.plot(y, predictions, linewidth=0, marker='o', alpha=0.5)\n",
    "plt.grid()\n",
    "plt.xlim((-0.2, 4.2))\n",
    "plt.ylim((-0.2, 4.2))\n",
    "plt.xlabel(\"Actual values\")\n",
    "plt.ylabel(\"Predicted values\")\n",
    "plt.show()"
   ]
  },
  {
   "cell_type": "code",
   "execution_count": null,
   "metadata": {},
   "outputs": [],
   "source": [
    "#The closer to the gray line, the more accurate the predicted value is.\n",
    "#Then, at first glance I can understand the predocted values are not accurate.\n",
    "#In addition, it is also understood that the prediction is pulled to a small value near 0, \n",
    "#and a small prediction is made for the larger value.\n",
    "\n",
    "#Let's try logarithmic transformation of the target variable"
   ]
  },
  {
   "cell_type": "code",
   "execution_count": 92,
   "metadata": {},
   "outputs": [
    {
     "name": "stdout",
     "output_type": "stream",
     "text": [
      "[0.2456913  0.14283579 0.15510676 0.10032927 0.1930384 ]\n"
     ]
    }
   ],
   "source": [
    "X = prepare_df.drop(['id', 'easily_accomodated'], axis=1)\n",
    "y = np.log(prepare_df.easily_accomodated.values)\n",
    "\n",
    "rf = RandomForestRegressor(n_estimators=100, max_depth=5)\n",
    "scores = cross_val_score(rf, X, y, cv=5)\n",
    "print(scores)"
   ]
  },
  {
   "cell_type": "code",
   "execution_count": 90,
   "metadata": {},
   "outputs": [
    {
     "data": {
      "image/png": "[encoded data removed]",
      "text/plain": [
       "<Figure size 576x576 with 1 Axes>"
      ]
     },
     "metadata": {
      "needs_background": "light"
     },
     "output_type": "display_data"
    }
   ],
   "source": [
    "rf.fit(X, y)\n",
    "predictions = rf.predict(X)\n",
    "plt.figure(figsize=(8, 8))\n",
    "\n",
    "plt.plot((-10, 10), (-10, 10), color='gray')\n",
    "plt.plot(y, predictions, linewidth=0, marker='o', alpha=0.5)\n",
    "plt.grid()\n",
    "plt.xlim((-8.2, 2))\n",
    "plt.ylim((-8.2, 2))\n",
    "plt.xlabel(\"Actual values\")\n",
    "plt.ylabel(\"Predicted values\")\n",
    "plt.show()\n"
   ]
  },
  {
   "cell_type": "code",
   "execution_count": null,
   "metadata": {},
   "outputs": [],
   "source": [
    "#Summary\n",
    "#This notebook uses data from the Seattle area of Airbnb and has been analyzed to answer the following questions. \n",
    "#Here we summarize the answers to those questions."
   ]
  },
  {
   "cell_type": "code",
   "execution_count": null,
   "metadata": {},
   "outputs": [],
   "source": [
    "#How long is the period available for lending by rooms?\n",
    "#The histogram of maximum nights shows that there are two groups.\n",
    "#One is a listing that can be used at spots such as the maximum number of nights within a week.\n",
    "#The other is a listing that supports a wide range of stay from the super long-term stay of the maximum \n",
    "#number of stays for three years or \n",
    "#more and the minimum number of nights for around two days to the spot use."
   ]
  },
  {
   "cell_type": "code",
   "execution_count": null,
   "metadata": {},
   "outputs": [],
   "source": [
    "#Is there a busy season?\n",
    "#The answer is Yes.\n",
    "#Apart from the increase in the number of Airbnb users, there was definitely a timely increase in the number of reviews at the same time each year.\n",
    "#It is thought that it is about one month around early September and overlaps with the summer vacation time. \n",
    "#It is important that the number of properties that can be provided at this time exceeds demand."
   ]
  },
  {
   "cell_type": "code",
   "execution_count": null,
   "metadata": {},
   "outputs": [],
   "source": [
    "#Are there any trends of popular rooms?\n",
    "#I could not derive it from my analysis.\n",
    "#However, I learned that the score improves by logarithmic transformation. I will find time in the future and try to improve."
   ]
  }
 ],
 "metadata": {
  "kernelspec": {
   "display_name": "Python 3",
   "language": "python",
   "name": "python3"
  },
  "language_info": {
   "codemirror_mode": {
    "name": "ipython",
    "version": 3
   },
   "file_extension": ".py",
   "mimetype": "text/x-python",
   "name": "python",
   "nbconvert_exporter": "python",
   "pygments_lexer": "ipython3",
   "version": "3.7.4"
  }
 },
 "nbformat": 4,
 "nbformat_minor": 2
}
